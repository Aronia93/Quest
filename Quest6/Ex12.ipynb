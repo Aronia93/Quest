{
  "nbformat": 4,
  "nbformat_minor": 0,
  "metadata": {
    "colab": {
      "provenance": [],
      "machine_shape": "hm",
      "gpuType": "T4",
      "authorship_tag": "ABX9TyOC2LYu8qOY4TJgkwNIVkB7",
      "include_colab_link": true
    },
    "kernelspec": {
      "name": "python3",
      "display_name": "Python 3"
    },
    "language_info": {
      "name": "python"
    },
    "gpuClass": "standard",
    "accelerator": "GPU"
  },
  "cells": [
    {
      "cell_type": "markdown",
      "metadata": {
        "id": "view-in-github",
        "colab_type": "text"
      },
      "source": [
        "<a href=\"https://colab.research.google.com/github/JihyeLimm/Quest/blob/main/Quest6/Ex12.ipynb\" target=\"_parent\"><img src=\"https://colab.research.google.com/assets/colab-badge.svg\" alt=\"Open In Colab\"/></a>"
      ]
    },
    {
      "cell_type": "markdown",
      "source": [
        "#12. 뉴스 요약봇 만들기 [프로젝트]\n",
        "\n",
        "1. Abstractive 모델 구성을 위한 텍스트 전처리 단계가 체계적으로 진행되었다.\t\n",
        ">분석단계, 정제단계, 정규화와 불용어 제거, 데이터셋 분리, 인코딩 과정이 빠짐없이 체계적으로 진행되었다.\n",
        "2. 텍스트 요약모델이 성공적으로 학습되었음을 확인하였다.\t\n",
        ">모델 학습이 진행되면서 train loss와 validation loss가 감소하는 경향을 그래프를 통해 확인했으며, 실제 요약문에 있는 핵심 단어들이 요약 문장 안에 포함되었다.\n",
        "3. Extractive 요약을 시도해 보고 Abstractive 요약 결과와 함께 비교해 보았다.\t\n",
        ">두 요약 결과를 문법완성도 측면과 핵심단어 포함 측면으로 나누어 비교하고 분석 결과를 표로 정리하여 제시하였다."
      ],
      "metadata": {
        "id": "Jnxe0TexXdYT"
      }
    },
    {
      "cell_type": "markdown",
      "source": [
        "라이브러리"
      ],
      "metadata": {
        "id": "pawO-Op5XmfH"
      }
    },
    {
      "cell_type": "code",
      "source": [
        "import os\n",
        "from google.colab import drive\n",
        "drive.mount('/gdrive', force_remount = True)\n",
        "os.chdir(\"/gdrive/MyDrive/AIFFEL/230525\")\n",
        "os.getcwd()"
      ],
      "metadata": {
        "colab": {
          "base_uri": "https://localhost:8080/",
          "height": 54
        },
        "id": "OkCJdsKwldfy",
        "outputId": "438bbaeb-99ec-4e6a-8b5c-041064bd801e"
      },
      "execution_count": 1,
      "outputs": [
        {
          "output_type": "stream",
          "name": "stdout",
          "text": [
            "Mounted at /gdrive\n"
          ]
        },
        {
          "output_type": "execute_result",
          "data": {
            "text/plain": [
              "'/gdrive/MyDrive/AIFFEL/230525'"
            ],
            "application/vnd.google.colaboratory.intrinsic+json": {
              "type": "string"
            }
          },
          "metadata": {},
          "execution_count": 1
        }
      ]
    },
    {
      "cell_type": "code",
      "source": [
        "!pip install summa"
      ],
      "metadata": {
        "id": "Nivg2mf_lxQY"
      },
      "execution_count": null,
      "outputs": []
    },
    {
      "cell_type": "code",
      "execution_count": 64,
      "metadata": {
        "id": "9ldWzoSYXYiG",
        "colab": {
          "base_uri": "https://localhost:8080/"
        },
        "outputId": "f2670080-dda1-437b-efcf-b88b0b5f0234"
      },
      "outputs": [
        {
          "output_type": "stream",
          "name": "stderr",
          "text": [
            "[nltk_data] Downloading package stopwords to /root/nltk_data...\n",
            "[nltk_data]   Package stopwords is already up-to-date!\n"
          ]
        }
      ],
      "source": [
        "import tensorflow\n",
        "\n",
        "import re\n",
        "from importlib.metadata import version\n",
        "import nltk\n",
        "from nltk.corpus import stopwords\n",
        "nltk.download('stopwords')\n",
        "\n",
        "import summa\n",
        "from summa import summarizer\n",
        "from summa.summarizer import summarize\n",
        "\n",
        "import numpy as np\n",
        "import pandas as pd\n",
        "from tqdm import tqdm\n",
        "\n",
        "import matplotlib.pyplot as plt\n",
        "\n",
        "from bs4 import BeautifulSoup \n",
        "from tensorflow.keras.preprocessing.text import Tokenizer \n",
        "from tensorflow.keras.preprocessing.sequence import pad_sequences\n",
        "from tensorflow.keras.layers import Input, LSTM, Embedding, Dense, Concatenate, TimeDistributed\n",
        "from tensorflow.keras.layers import AdditiveAttention\n",
        "from tensorflow.keras.models import Model\n",
        "from tensorflow.python.keras.models import load_model\n",
        "from tensorflow.keras.callbacks import EarlyStopping, ModelCheckpoint\n",
        "\n",
        "\n",
        "import urllib.request\n",
        "import warnings\n",
        "warnings.filterwarnings(\"ignore\", category=UserWarning, module='bs4')"
      ]
    },
    {
      "cell_type": "markdown",
      "source": [
        "Step1. 데이터수집\n",
        ">https://github.com/sunnysai12345/News_Summary"
      ],
      "metadata": {
        "id": "rgQEe6u0XpQs"
      }
    },
    {
      "cell_type": "code",
      "source": [
        "urllib.request.urlretrieve(\"https://raw.githubusercontent.com/sunnysai12345/News_Summary/master/news_summary_more.csv\", filename=\"news_summary_more.csv\")\n",
        "data = pd.read_csv('news_summary_more.csv', encoding='iso-8859-1')\n",
        "\n",
        "print('전체 샘플수 :', (len(data)))\n",
        "data.sample(3)  #기사의 본문에 해당되는 text와 headlines 두 가지 열로 구성"
      ],
      "metadata": {
        "id": "wMScdR4wXqDr",
        "colab": {
          "base_uri": "https://localhost:8080/",
          "height": 162
        },
        "outputId": "b3604049-ccae-4c5f-b429-1cfbc0bc30d2"
      },
      "execution_count": null,
      "outputs": [
        {
          "output_type": "stream",
          "name": "stdout",
          "text": [
            "전체 샘플수 : 98401\n"
          ]
        },
        {
          "output_type": "execute_result",
          "data": {
            "text/plain": [
              "                                               headlines  \\\n",
              "67283  Telugu actor Nandamuri slaps fan during electi...   \n",
              "40538  19-yr-old Rashid should be Afghanistan's PM: F...   \n",
              "26136  Aadhaar not mandatory for Ã¢ÂÂ¹5-lakh insuran...   \n",
              "\n",
              "                                                    text  \n",
              "67283  A video shows Telugu actor Nandamuri Balakrish...  \n",
              "40538  Former Indian wicketkeeper-batsman Farokh Engi...  \n",
              "26136  The Health Ministry has clarified it's not man...  "
            ],
            "text/html": [
              "\n",
              "  <div id=\"df-6c038099-be12-45df-a2cf-40dc69cb9034\">\n",
              "    <div class=\"colab-df-container\">\n",
              "      <div>\n",
              "<style scoped>\n",
              "    .dataframe tbody tr th:only-of-type {\n",
              "        vertical-align: middle;\n",
              "    }\n",
              "\n",
              "    .dataframe tbody tr th {\n",
              "        vertical-align: top;\n",
              "    }\n",
              "\n",
              "    .dataframe thead th {\n",
              "        text-align: right;\n",
              "    }\n",
              "</style>\n",
              "<table border=\"1\" class=\"dataframe\">\n",
              "  <thead>\n",
              "    <tr style=\"text-align: right;\">\n",
              "      <th></th>\n",
              "      <th>headlines</th>\n",
              "      <th>text</th>\n",
              "    </tr>\n",
              "  </thead>\n",
              "  <tbody>\n",
              "    <tr>\n",
              "      <th>67283</th>\n",
              "      <td>Telugu actor Nandamuri slaps fan during electi...</td>\n",
              "      <td>A video shows Telugu actor Nandamuri Balakrish...</td>\n",
              "    </tr>\n",
              "    <tr>\n",
              "      <th>40538</th>\n",
              "      <td>19-yr-old Rashid should be Afghanistan's PM: F...</td>\n",
              "      <td>Former Indian wicketkeeper-batsman Farokh Engi...</td>\n",
              "    </tr>\n",
              "    <tr>\n",
              "      <th>26136</th>\n",
              "      <td>Aadhaar not mandatory for Ã¢ÂÂ¹5-lakh insuran...</td>\n",
              "      <td>The Health Ministry has clarified it's not man...</td>\n",
              "    </tr>\n",
              "  </tbody>\n",
              "</table>\n",
              "</div>\n",
              "      <button class=\"colab-df-convert\" onclick=\"convertToInteractive('df-6c038099-be12-45df-a2cf-40dc69cb9034')\"\n",
              "              title=\"Convert this dataframe to an interactive table.\"\n",
              "              style=\"display:none;\">\n",
              "        \n",
              "  <svg xmlns=\"http://www.w3.org/2000/svg\" height=\"24px\"viewBox=\"0 0 24 24\"\n",
              "       width=\"24px\">\n",
              "    <path d=\"M0 0h24v24H0V0z\" fill=\"none\"/>\n",
              "    <path d=\"M18.56 5.44l.94 2.06.94-2.06 2.06-.94-2.06-.94-.94-2.06-.94 2.06-2.06.94zm-11 1L8.5 8.5l.94-2.06 2.06-.94-2.06-.94L8.5 2.5l-.94 2.06-2.06.94zm10 10l.94 2.06.94-2.06 2.06-.94-2.06-.94-.94-2.06-.94 2.06-2.06.94z\"/><path d=\"M17.41 7.96l-1.37-1.37c-.4-.4-.92-.59-1.43-.59-.52 0-1.04.2-1.43.59L10.3 9.45l-7.72 7.72c-.78.78-.78 2.05 0 2.83L4 21.41c.39.39.9.59 1.41.59.51 0 1.02-.2 1.41-.59l7.78-7.78 2.81-2.81c.8-.78.8-2.07 0-2.86zM5.41 20L4 18.59l7.72-7.72 1.47 1.35L5.41 20z\"/>\n",
              "  </svg>\n",
              "      </button>\n",
              "      \n",
              "  <style>\n",
              "    .colab-df-container {\n",
              "      display:flex;\n",
              "      flex-wrap:wrap;\n",
              "      gap: 12px;\n",
              "    }\n",
              "\n",
              "    .colab-df-convert {\n",
              "      background-color: #E8F0FE;\n",
              "      border: none;\n",
              "      border-radius: 50%;\n",
              "      cursor: pointer;\n",
              "      display: none;\n",
              "      fill: #1967D2;\n",
              "      height: 32px;\n",
              "      padding: 0 0 0 0;\n",
              "      width: 32px;\n",
              "    }\n",
              "\n",
              "    .colab-df-convert:hover {\n",
              "      background-color: #E2EBFA;\n",
              "      box-shadow: 0px 1px 2px rgba(60, 64, 67, 0.3), 0px 1px 3px 1px rgba(60, 64, 67, 0.15);\n",
              "      fill: #174EA6;\n",
              "    }\n",
              "\n",
              "    [theme=dark] .colab-df-convert {\n",
              "      background-color: #3B4455;\n",
              "      fill: #D2E3FC;\n",
              "    }\n",
              "\n",
              "    [theme=dark] .colab-df-convert:hover {\n",
              "      background-color: #434B5C;\n",
              "      box-shadow: 0px 1px 3px 1px rgba(0, 0, 0, 0.15);\n",
              "      filter: drop-shadow(0px 1px 2px rgba(0, 0, 0, 0.3));\n",
              "      fill: #FFFFFF;\n",
              "    }\n",
              "  </style>\n",
              "\n",
              "      <script>\n",
              "        const buttonEl =\n",
              "          document.querySelector('#df-6c038099-be12-45df-a2cf-40dc69cb9034 button.colab-df-convert');\n",
              "        buttonEl.style.display =\n",
              "          google.colab.kernel.accessAllowed ? 'block' : 'none';\n",
              "\n",
              "        async function convertToInteractive(key) {\n",
              "          const element = document.querySelector('#df-6c038099-be12-45df-a2cf-40dc69cb9034');\n",
              "          const dataTable =\n",
              "            await google.colab.kernel.invokeFunction('convertToInteractive',\n",
              "                                                     [key], {});\n",
              "          if (!dataTable) return;\n",
              "\n",
              "          const docLinkHtml = 'Like what you see? Visit the ' +\n",
              "            '<a target=\"_blank\" href=https://colab.research.google.com/notebooks/data_table.ipynb>data table notebook</a>'\n",
              "            + ' to learn more about interactive tables.';\n",
              "          element.innerHTML = '';\n",
              "          dataTable['output_type'] = 'display_data';\n",
              "          await google.colab.output.renderOutput(dataTable, element);\n",
              "          const docLink = document.createElement('div');\n",
              "          docLink.innerHTML = docLinkHtml;\n",
              "          element.appendChild(docLink);\n",
              "        }\n",
              "      </script>\n",
              "    </div>\n",
              "  </div>\n",
              "  "
            ]
          },
          "metadata": {},
          "execution_count": 9
        }
      ]
    },
    {
      "cell_type": "markdown",
      "source": [
        "Step2. 데이터 전처리"
      ],
      "metadata": {
        "id": "tyn9s52MmsVU"
      }
    },
    {
      "cell_type": "markdown",
      "source": [
        ">텍스트 정규화 및 불용어 제거"
      ],
      "metadata": {
        "id": "i5-gI-qBnrRa"
      }
    },
    {
      "cell_type": "code",
      "source": [
        "#텍스트 정규화를 위한 사전(dictionary) 구성\n",
        "contractions = {\"ain't\": \"is not\", \"aren't\": \"are not\",\"can't\": \"cannot\", \"'cause\": \"because\", \"could've\": \"could have\", \"couldn't\": \"could not\",\n",
        "                           \"didn't\": \"did not\",  \"doesn't\": \"does not\", \"don't\": \"do not\", \"hadn't\": \"had not\", \"hasn't\": \"has not\", \"haven't\": \"have not\",\n",
        "                           \"he'd\": \"he would\",\"he'll\": \"he will\", \"he's\": \"he is\", \"how'd\": \"how did\", \"how'd'y\": \"how do you\", \"how'll\": \"how will\", \"how's\": \"how is\",\n",
        "                           \"I'd\": \"I would\", \"I'd've\": \"I would have\", \"I'll\": \"I will\", \"I'll've\": \"I will have\",\"I'm\": \"I am\", \"I've\": \"I have\", \"i'd\": \"i would\",\n",
        "                           \"i'd've\": \"i would have\", \"i'll\": \"i will\",  \"i'll've\": \"i will have\",\"i'm\": \"i am\", \"i've\": \"i have\", \"isn't\": \"is not\", \"it'd\": \"it would\",\n",
        "                           \"it'd've\": \"it would have\", \"it'll\": \"it will\", \"it'll've\": \"it will have\",\"it's\": \"it is\", \"let's\": \"let us\", \"ma'am\": \"madam\",\n",
        "                           \"mayn't\": \"may not\", \"might've\": \"might have\",\"mightn't\": \"might not\",\"mightn't've\": \"might not have\", \"must've\": \"must have\",\n",
        "                           \"mustn't\": \"must not\", \"mustn't've\": \"must not have\", \"needn't\": \"need not\", \"needn't've\": \"need not have\",\"o'clock\": \"of the clock\",\n",
        "                           \"oughtn't\": \"ought not\", \"oughtn't've\": \"ought not have\", \"shan't\": \"shall not\", \"sha'n't\": \"shall not\", \"shan't've\": \"shall not have\",\n",
        "                           \"she'd\": \"she would\", \"she'd've\": \"she would have\", \"she'll\": \"she will\", \"she'll've\": \"she will have\", \"she's\": \"she is\",\n",
        "                           \"should've\": \"should have\", \"shouldn't\": \"should not\", \"shouldn't've\": \"should not have\", \"so've\": \"so have\",\"so's\": \"so as\",\n",
        "                           \"this's\": \"this is\",\"that'd\": \"that would\", \"that'd've\": \"that would have\", \"that's\": \"that is\", \"there'd\": \"there would\",\n",
        "                           \"there'd've\": \"there would have\", \"there's\": \"there is\", \"here's\": \"here is\",\"they'd\": \"they would\", \"they'd've\": \"they would have\",\n",
        "                           \"they'll\": \"they will\", \"they'll've\": \"they will have\", \"they're\": \"they are\", \"they've\": \"they have\", \"to've\": \"to have\",\n",
        "                           \"wasn't\": \"was not\", \"we'd\": \"we would\", \"we'd've\": \"we would have\", \"we'll\": \"we will\", \"we'll've\": \"we will have\", \"we're\": \"we are\",\n",
        "                           \"we've\": \"we have\", \"weren't\": \"were not\", \"what'll\": \"what will\", \"what'll've\": \"what will have\", \"what're\": \"what are\",\n",
        "                           \"what's\": \"what is\", \"what've\": \"what have\", \"when's\": \"when is\", \"when've\": \"when have\", \"where'd\": \"where did\", \"where's\": \"where is\",\n",
        "                           \"where've\": \"where have\", \"who'll\": \"who will\", \"who'll've\": \"who will have\", \"who's\": \"who is\", \"who've\": \"who have\",\n",
        "                           \"why's\": \"why is\", \"why've\": \"why have\", \"will've\": \"will have\", \"won't\": \"will not\", \"won't've\": \"will not have\",\n",
        "                           \"would've\": \"would have\", \"wouldn't\": \"would not\", \"wouldn't've\": \"would not have\", \"y'all\": \"you all\",\n",
        "                           \"y'all'd\": \"you all would\",\"y'all'd've\": \"you all would have\",\"y'all're\": \"you all are\",\"y'all've\": \"you all have\",\n",
        "                           \"you'd\": \"you would\", \"you'd've\": \"you would have\", \"you'll\": \"you will\", \"you'll've\": \"you will have\",\n",
        "                           \"you're\": \"you are\", \"you've\": \"you have\"}\n",
        "\n",
        "print(\"정규화 사전의 수: \", len(contractions))\n",
        "\n",
        "#NLTK에서 제공하는 불용어 리스트참조 \n",
        "print('불용어 개수 :', len(stopwords.words('english') ))"
      ],
      "metadata": {
        "colab": {
          "base_uri": "https://localhost:8080/"
        },
        "id": "1fGX-Eb3mL2h",
        "outputId": "ae37870b-44a3-41df-e79e-b7e2e9b5e7af"
      },
      "execution_count": 4,
      "outputs": [
        {
          "output_type": "stream",
          "name": "stdout",
          "text": [
            "정규화 사전의 수:  120\n",
            "불용어 개수 : 179\n"
          ]
        }
      ]
    },
    {
      "cell_type": "code",
      "source": [
        "# 데이터 전처리 함수\n",
        "def preprocess_sentence(sentence, remove_stopwords=True):\n",
        "    sentence = sentence.lower() # 텍스트 소문자화\n",
        "    sentence = BeautifulSoup(sentence, \"lxml\").text # <br />, <a href = ...> 등의 html 태그 제거\n",
        "    sentence = re.sub(r'\\([^)]*\\)', '', sentence) # 괄호로 닫힌 문자열 (...) 제거 Ex) my husband (and myself!) for => my husband for\n",
        "    sentence = re.sub('\"','', sentence) # 쌍따옴표 \" 제거\n",
        "    sentence = ' '.join([contractions[t] if t in contractions else t for t in sentence.split(\" \")]) # 약어 정규화\n",
        "    sentence = re.sub(r\"'s\\b\",\"\", sentence) # 소유격 제거. Ex) roland's -> roland\n",
        "    sentence = re.sub(\"[^a-zA-Z]\", \" \", sentence) # 영어 외 문자(숫자, 특수문자 등) 공백으로 변환\n",
        "    sentence = re.sub('[m]{2,}', 'mm', sentence) # m이 3개 이상이면 2개로 변경. Ex) ummmmmmm yeah -> umm yeah\n",
        "    \n",
        "    # 불용어 제거 (Text)\n",
        "    if remove_stopwords:\n",
        "        tokens = ' '.join(word for word in sentence.split() if not word in stopwords.words('english') if len(word) > 1)\n",
        "    # 불용어 미제거 (Summary)\n",
        "    else:\n",
        "        tokens = ' '.join(word for word in sentence.split() if len(word) > 1)\n",
        "    return tokens"
      ],
      "metadata": {
        "id": "dGyRclVinuV-"
      },
      "execution_count": 5,
      "outputs": []
    },
    {
      "cell_type": "code",
      "source": [
        "#데이터 전처리(text -> 불용어 제거 / headlines -> 불용어를 제거하지 않음)\n",
        "\n",
        "#text 컬럼의 데이터를 전처리\n",
        "clean_text = []\n",
        "\n",
        "for te in tqdm(data[\"text\"]):\n",
        "  cl_te = preprocess_sentence(te)\n",
        "  clean_text.append(cl_te)\n",
        "\n",
        "#headlines 컬럼의 데이터를 전처리\n",
        "clean_headlines = []\n",
        "\n",
        "for su in tqdm(data[\"headlines\"]):\n",
        "  cl_su = preprocess_sentence(su, False)\n",
        "  clean_headlines.append(cl_su)\n",
        "\n",
        "# 전처리 후 출력\n",
        "print(\"Text 전처리 후 결과: \", clean_text[:2])\n",
        "print(\"Summary 전처리 후 결과: \", clean_headlines[:2])\n",
        "\n",
        "\n",
        "#전처리한 \"text\", \"headlines\"다시 table에 넣고 빈 값 null값 처리\n",
        "data['text'] = clean_text\n",
        "data['headlines'] = clean_headlines"
      ],
      "metadata": {
        "colab": {
          "base_uri": "https://localhost:8080/"
        },
        "id": "zafUq6sRn6BO",
        "outputId": "1060c464-cdd5-47e1-ed7e-a10a74568702"
      },
      "execution_count": null,
      "outputs": [
        {
          "output_type": "stream",
          "name": "stderr",
          "text": [
            "100%|██████████| 98401/98401 [12:28<00:00, 131.44it/s]\n",
            "  0%|          | 356/98401 [00:00<00:27, 3553.40it/s]<ipython-input-14-165776f0a558>:4: MarkupResemblesLocatorWarning: The input looks more like a filename than markup. You may want to open this file and pass the filehandle into Beautiful Soup.\n",
            "  sentence = BeautifulSoup(sentence, \"lxml\").text # <br />, <a href = ...> 등의 html 태그 제거\n",
            "100%|██████████| 98401/98401 [00:28<00:00, 3485.26it/s]"
          ]
        },
        {
          "output_type": "stream",
          "name": "stdout",
          "text": [
            "Text 전처리 후 결과:  ['saurav kant alumnus upgrad iiit pg program machine learning artificial intelligence sr systems engineer infosys almost years work experience program upgrad degree career support helped transition data scientist tech mahindra salary hike upgrad online power learning powered lakh careers', 'kunal shah credit card bill payment platform cred gave users chance win free food swiggy one year pranav kaushik delhi techie bagged reward spending cred coins users get one cred coin per rupee bill paid used avail rewards brands like ixigo bookmyshow ubereats cult fit']\n",
            "Summary 전처리 후 결과:  ['upgrad learner switches to career in ml al with salary hike', 'delhi techie wins free food from swiggy for one year on cred']\n"
          ]
        },
        {
          "output_type": "stream",
          "name": "stderr",
          "text": [
            "\n"
          ]
        }
      ]
    },
    {
      "cell_type": "code",
      "source": [
        "#Null값 제거\n",
        "\n",
        "# 빈 값을 Null 값으로 변환\n",
        "data.replace('', np.nan, inplace=True)\n",
        "\n",
        "#Null값 확인  -> null값 없음\n",
        "print(data.isnull().sum())\n",
        "print('전체 샘플수 :', (len(data)))\n",
        "\n",
        "data.head(2)"
      ],
      "metadata": {
        "colab": {
          "base_uri": "https://localhost:8080/",
          "height": 186
        },
        "id": "gZaCvcLzoyqo",
        "outputId": "ffe7a2aa-a233-4254-f4ee-76fde7940469"
      },
      "execution_count": null,
      "outputs": [
        {
          "output_type": "stream",
          "name": "stdout",
          "text": [
            "headlines    0\n",
            "text         0\n",
            "dtype: int64\n",
            "전체 샘플수 : 98401\n"
          ]
        },
        {
          "output_type": "execute_result",
          "data": {
            "text/plain": [
              "                                           headlines  \\\n",
              "0  upgrad learner switches to career in ml al wit...   \n",
              "1  delhi techie wins free food from swiggy for on...   \n",
              "\n",
              "                                                text  \n",
              "0  saurav kant alumnus upgrad iiit pg program mac...  \n",
              "1  kunal shah credit card bill payment platform c...  "
            ],
            "text/html": [
              "\n",
              "  <div id=\"df-099df3c0-8444-496c-8987-ad5c8f472e4d\">\n",
              "    <div class=\"colab-df-container\">\n",
              "      <div>\n",
              "<style scoped>\n",
              "    .dataframe tbody tr th:only-of-type {\n",
              "        vertical-align: middle;\n",
              "    }\n",
              "\n",
              "    .dataframe tbody tr th {\n",
              "        vertical-align: top;\n",
              "    }\n",
              "\n",
              "    .dataframe thead th {\n",
              "        text-align: right;\n",
              "    }\n",
              "</style>\n",
              "<table border=\"1\" class=\"dataframe\">\n",
              "  <thead>\n",
              "    <tr style=\"text-align: right;\">\n",
              "      <th></th>\n",
              "      <th>headlines</th>\n",
              "      <th>text</th>\n",
              "    </tr>\n",
              "  </thead>\n",
              "  <tbody>\n",
              "    <tr>\n",
              "      <th>0</th>\n",
              "      <td>upgrad learner switches to career in ml al wit...</td>\n",
              "      <td>saurav kant alumnus upgrad iiit pg program mac...</td>\n",
              "    </tr>\n",
              "    <tr>\n",
              "      <th>1</th>\n",
              "      <td>delhi techie wins free food from swiggy for on...</td>\n",
              "      <td>kunal shah credit card bill payment platform c...</td>\n",
              "    </tr>\n",
              "  </tbody>\n",
              "</table>\n",
              "</div>\n",
              "      <button class=\"colab-df-convert\" onclick=\"convertToInteractive('df-099df3c0-8444-496c-8987-ad5c8f472e4d')\"\n",
              "              title=\"Convert this dataframe to an interactive table.\"\n",
              "              style=\"display:none;\">\n",
              "        \n",
              "  <svg xmlns=\"http://www.w3.org/2000/svg\" height=\"24px\"viewBox=\"0 0 24 24\"\n",
              "       width=\"24px\">\n",
              "    <path d=\"M0 0h24v24H0V0z\" fill=\"none\"/>\n",
              "    <path d=\"M18.56 5.44l.94 2.06.94-2.06 2.06-.94-2.06-.94-.94-2.06-.94 2.06-2.06.94zm-11 1L8.5 8.5l.94-2.06 2.06-.94-2.06-.94L8.5 2.5l-.94 2.06-2.06.94zm10 10l.94 2.06.94-2.06 2.06-.94-2.06-.94-.94-2.06-.94 2.06-2.06.94z\"/><path d=\"M17.41 7.96l-1.37-1.37c-.4-.4-.92-.59-1.43-.59-.52 0-1.04.2-1.43.59L10.3 9.45l-7.72 7.72c-.78.78-.78 2.05 0 2.83L4 21.41c.39.39.9.59 1.41.59.51 0 1.02-.2 1.41-.59l7.78-7.78 2.81-2.81c.8-.78.8-2.07 0-2.86zM5.41 20L4 18.59l7.72-7.72 1.47 1.35L5.41 20z\"/>\n",
              "  </svg>\n",
              "      </button>\n",
              "      \n",
              "  <style>\n",
              "    .colab-df-container {\n",
              "      display:flex;\n",
              "      flex-wrap:wrap;\n",
              "      gap: 12px;\n",
              "    }\n",
              "\n",
              "    .colab-df-convert {\n",
              "      background-color: #E8F0FE;\n",
              "      border: none;\n",
              "      border-radius: 50%;\n",
              "      cursor: pointer;\n",
              "      display: none;\n",
              "      fill: #1967D2;\n",
              "      height: 32px;\n",
              "      padding: 0 0 0 0;\n",
              "      width: 32px;\n",
              "    }\n",
              "\n",
              "    .colab-df-convert:hover {\n",
              "      background-color: #E2EBFA;\n",
              "      box-shadow: 0px 1px 2px rgba(60, 64, 67, 0.3), 0px 1px 3px 1px rgba(60, 64, 67, 0.15);\n",
              "      fill: #174EA6;\n",
              "    }\n",
              "\n",
              "    [theme=dark] .colab-df-convert {\n",
              "      background-color: #3B4455;\n",
              "      fill: #D2E3FC;\n",
              "    }\n",
              "\n",
              "    [theme=dark] .colab-df-convert:hover {\n",
              "      background-color: #434B5C;\n",
              "      box-shadow: 0px 1px 3px 1px rgba(0, 0, 0, 0.15);\n",
              "      filter: drop-shadow(0px 1px 2px rgba(0, 0, 0, 0.3));\n",
              "      fill: #FFFFFF;\n",
              "    }\n",
              "  </style>\n",
              "\n",
              "      <script>\n",
              "        const buttonEl =\n",
              "          document.querySelector('#df-099df3c0-8444-496c-8987-ad5c8f472e4d button.colab-df-convert');\n",
              "        buttonEl.style.display =\n",
              "          google.colab.kernel.accessAllowed ? 'block' : 'none';\n",
              "\n",
              "        async function convertToInteractive(key) {\n",
              "          const element = document.querySelector('#df-099df3c0-8444-496c-8987-ad5c8f472e4d');\n",
              "          const dataTable =\n",
              "            await google.colab.kernel.invokeFunction('convertToInteractive',\n",
              "                                                     [key], {});\n",
              "          if (!dataTable) return;\n",
              "\n",
              "          const docLinkHtml = 'Like what you see? Visit the ' +\n",
              "            '<a target=\"_blank\" href=https://colab.research.google.com/notebooks/data_table.ipynb>data table notebook</a>'\n",
              "            + ' to learn more about interactive tables.';\n",
              "          element.innerHTML = '';\n",
              "          dataTable['output_type'] = 'display_data';\n",
              "          await google.colab.output.renderOutput(dataTable, element);\n",
              "          const docLink = document.createElement('div');\n",
              "          docLink.innerHTML = docLinkHtml;\n",
              "          element.appendChild(docLink);\n",
              "        }\n",
              "      </script>\n",
              "    </div>\n",
              "  </div>\n",
              "  "
            ]
          },
          "metadata": {},
          "execution_count": 16
        }
      ]
    },
    {
      "cell_type": "code",
      "source": [
        "#전처리 데이터 csv로 저장\n",
        "data.to_csv(\"after_news.csv\", index = \"False\")"
      ],
      "metadata": {
        "id": "FXVBX88mpSgC"
      },
      "execution_count": null,
      "outputs": []
    },
    {
      "cell_type": "code",
      "source": [
        "#csv 읽기\n",
        "\"\"\"\n",
        "data = pd.read_csv(\"after_news.csv\")\n",
        "data = data[['text', 'headlines']]   \n",
        "print('전체 샘플수 :', (len(data)))\n",
        "data.head(2)\n",
        "\"\"\""
      ],
      "metadata": {
        "id": "YQz89Q2ypeMi"
      },
      "execution_count": null,
      "outputs": []
    },
    {
      "cell_type": "code",
      "source": [
        "#샘플 최대길이 지정\n",
        "\n",
        "#최소, 최대, 평균 길이\n",
        "text_len = [len(s.split()) for s in data['text']]\n",
        "summary_len = [len(s.split()) for s in data['headlines']]\n",
        "\n",
        "print('텍스트의 최소 길이 : {}'.format(np.min(text_len)))\n",
        "print('텍스트의 최대 길이 : {}'.format(np.max(text_len)))\n",
        "print('텍스트의 평균 길이 : {}'.format(np.mean(text_len)))\n",
        "print('헤드라인의 최소 길이 : {}'.format(np.min(summary_len)))\n",
        "print('헤드라인의 최대 길이 : {}'.format(np.max(summary_len)))\n",
        "print('헤드라인의 평균 길이 : {}'.format(np.mean(summary_len)))\n",
        "\n",
        "plt.subplot(1,2,1)\n",
        "plt.title('Text')\n",
        "plt.hist(text_len, bins = 40)\n",
        "plt.xlabel('length of samples')\n",
        "plt.ylabel('number of samples')\n",
        "\n",
        "plt.subplot(1,2,2)\n",
        "plt.title('Healines')\n",
        "plt.hist(summary_len, bins = 40)\n",
        "plt.xlabel('length of samples')\n",
        "plt.ylabel('number of samples')\n",
        "plt.show()"
      ],
      "metadata": {
        "colab": {
          "base_uri": "https://localhost:8080/",
          "height": 582
        },
        "id": "tkzXnTqhtBdu",
        "outputId": "3a3dadeb-93ad-4783-bf6a-96e1b3c2953f"
      },
      "execution_count": null,
      "outputs": [
        {
          "output_type": "stream",
          "name": "stdout",
          "text": [
            "텍스트의 최소 길이 : 1\n",
            "텍스트의 최대 길이 : 60\n",
            "텍스트의 평균 길이 : 35.09983638377659\n",
            "헤드라인의 최소 길이 : 1\n",
            "헤드라인의 최대 길이 : 16\n",
            "헤드라인의 평균 길이 : 9.299651426306644\n"
          ]
        },
        {
          "output_type": "display_data",
          "data": {
            "text/plain": [
              "<Figure size 640x480 with 2 Axes>"
            ],
            "image/png": "[encoded data removed]"
          },
          "metadata": {}
        }
      ]
    },
    {
      "cell_type": "code",
      "source": [
        "#위 결과를 바탕으로  Text의 최대 길이와 Summary의 적절한 최대 길이 지정 \n",
        "#훈련 데이터와 샘플의 길이를 입력하면, 데이터의 몇 %가 해당하는지 계산하는 함수\n",
        "def below_threshold_len(max_len, nested_list):\n",
        "  cnt = 0\n",
        "  for s in nested_list:\n",
        "    if(len(s.split()) <= max_len):\n",
        "        cnt = cnt + 1\n",
        "  print('전체 샘플 중 길이가 %s 이하인 샘플의 비율: %s'%(max_len, (cnt / len(nested_list))))\n",
        "\n",
        "#계산\n",
        "text_max_len = 50\n",
        "summary_max_len = 13\n",
        "\n",
        "below_threshold_len(text_max_len, data['text'])\n",
        "below_threshold_len(summary_max_len,  data['headlines'])"
      ],
      "metadata": {
        "colab": {
          "base_uri": "https://localhost:8080/"
        },
        "id": "BxuEJ_7ftXgg",
        "outputId": "02ac3897-ec6a-42c4-f300-0caedda0ad09"
      },
      "execution_count": null,
      "outputs": [
        {
          "output_type": "stream",
          "name": "stdout",
          "text": [
            "전체 샘플 중 길이가 50 이하인 샘플의 비율: 0.9998577250231196\n",
            "전체 샘플 중 길이가 13 이하인 샘플의 비율: 0.9981707502972531\n"
          ]
        }
      ]
    },
    {
      "cell_type": "code",
      "source": [
        "#text_max_len과 summary_max_len의 길이보다 큰 샘플을 제외\n",
        "\n",
        "data = data[data.apply(lambda x : len(x[\"text\"].split()) <= text_max_len and len(x[\"headlines\"].split()) <= summary_max_len, axis =1 )]\n",
        "print('전체 샘플수 :', (len(data)))   #98,207\n"
      ],
      "metadata": {
        "colab": {
          "base_uri": "https://localhost:8080/"
        },
        "id": "jbt9UciyuFZ-",
        "outputId": "07e64979-41d0-44a2-f2e4-115a9eabdd4e"
      },
      "execution_count": null,
      "outputs": [
        {
          "output_type": "stream",
          "name": "stdout",
          "text": [
            "전체 샘플수 : 98207\n"
          ]
        }
      ]
    },
    {
      "cell_type": "code",
      "source": [
        "\"\"\"\n",
        "#전처리 데이터 csv로 저장\n",
        "data.to_csv(\"after_max_news.csv\", index = \"False\")\n",
        "\"\"\"\n",
        "\"\"\"\n",
        "#after 전처리, 샘플길이 조절한 csv불러오기\n",
        "data = pd.read_csv(\"after_max_news.csv\")\n",
        "data = data[['headlines', 'text']]   \n",
        "print('전체 샘플수 :', (len(data)))   # 98207\n",
        "data.head(2)\n",
        "\"\""
      ],
      "metadata": {
        "colab": {
          "base_uri": "https://localhost:8080/",
          "height": 130
        },
        "id": "dpLydC8hu3q7",
        "outputId": "36691d7a-e2c4-44db-a5e0-a8ea1cc4abe0"
      },
      "execution_count": 17,
      "outputs": [
        {
          "output_type": "stream",
          "name": "stdout",
          "text": [
            "전체 샘플수 : 98207\n"
          ]
        },
        {
          "output_type": "execute_result",
          "data": {
            "text/plain": [
              "                                           headlines  \\\n",
              "0  upgrad learner switches to career in ml al wit...   \n",
              "1  delhi techie wins free food from swiggy for on...   \n",
              "\n",
              "                                                text  \n",
              "0  saurav kant alumnus upgrad iiit pg program mac...  \n",
              "1  kunal shah credit card bill payment platform c...  "
            ],
            "text/html": [
              "\n",
              "  <div id=\"df-eae6fc5d-26a2-4607-af7d-4b0c69e45881\">\n",
              "    <div class=\"colab-df-container\">\n",
              "      <div>\n",
              "<style scoped>\n",
              "    .dataframe tbody tr th:only-of-type {\n",
              "        vertical-align: middle;\n",
              "    }\n",
              "\n",
              "    .dataframe tbody tr th {\n",
              "        vertical-align: top;\n",
              "    }\n",
              "\n",
              "    .dataframe thead th {\n",
              "        text-align: right;\n",
              "    }\n",
              "</style>\n",
              "<table border=\"1\" class=\"dataframe\">\n",
              "  <thead>\n",
              "    <tr style=\"text-align: right;\">\n",
              "      <th></th>\n",
              "      <th>headlines</th>\n",
              "      <th>text</th>\n",
              "    </tr>\n",
              "  </thead>\n",
              "  <tbody>\n",
              "    <tr>\n",
              "      <th>0</th>\n",
              "      <td>upgrad learner switches to career in ml al wit...</td>\n",
              "      <td>saurav kant alumnus upgrad iiit pg program mac...</td>\n",
              "    </tr>\n",
              "    <tr>\n",
              "      <th>1</th>\n",
              "      <td>delhi techie wins free food from swiggy for on...</td>\n",
              "      <td>kunal shah credit card bill payment platform c...</td>\n",
              "    </tr>\n",
              "  </tbody>\n",
              "</table>\n",
              "</div>\n",
              "      <button class=\"colab-df-convert\" onclick=\"convertToInteractive('df-eae6fc5d-26a2-4607-af7d-4b0c69e45881')\"\n",
              "              title=\"Convert this dataframe to an interactive table.\"\n",
              "              style=\"display:none;\">\n",
              "        \n",
              "  <svg xmlns=\"http://www.w3.org/2000/svg\" height=\"24px\"viewBox=\"0 0 24 24\"\n",
              "       width=\"24px\">\n",
              "    <path d=\"M0 0h24v24H0V0z\" fill=\"none\"/>\n",
              "    <path d=\"M18.56 5.44l.94 2.06.94-2.06 2.06-.94-2.06-.94-.94-2.06-.94 2.06-2.06.94zm-11 1L8.5 8.5l.94-2.06 2.06-.94-2.06-.94L8.5 2.5l-.94 2.06-2.06.94zm10 10l.94 2.06.94-2.06 2.06-.94-2.06-.94-.94-2.06-.94 2.06-2.06.94z\"/><path d=\"M17.41 7.96l-1.37-1.37c-.4-.4-.92-.59-1.43-.59-.52 0-1.04.2-1.43.59L10.3 9.45l-7.72 7.72c-.78.78-.78 2.05 0 2.83L4 21.41c.39.39.9.59 1.41.59.51 0 1.02-.2 1.41-.59l7.78-7.78 2.81-2.81c.8-.78.8-2.07 0-2.86zM5.41 20L4 18.59l7.72-7.72 1.47 1.35L5.41 20z\"/>\n",
              "  </svg>\n",
              "      </button>\n",
              "      \n",
              "  <style>\n",
              "    .colab-df-container {\n",
              "      display:flex;\n",
              "      flex-wrap:wrap;\n",
              "      gap: 12px;\n",
              "    }\n",
              "\n",
              "    .colab-df-convert {\n",
              "      background-color: #E8F0FE;\n",
              "      border: none;\n",
              "      border-radius: 50%;\n",
              "      cursor: pointer;\n",
              "      display: none;\n",
              "      fill: #1967D2;\n",
              "      height: 32px;\n",
              "      padding: 0 0 0 0;\n",
              "      width: 32px;\n",
              "    }\n",
              "\n",
              "    .colab-df-convert:hover {\n",
              "      background-color: #E2EBFA;\n",
              "      box-shadow: 0px 1px 2px rgba(60, 64, 67, 0.3), 0px 1px 3px 1px rgba(60, 64, 67, 0.15);\n",
              "      fill: #174EA6;\n",
              "    }\n",
              "\n",
              "    [theme=dark] .colab-df-convert {\n",
              "      background-color: #3B4455;\n",
              "      fill: #D2E3FC;\n",
              "    }\n",
              "\n",
              "    [theme=dark] .colab-df-convert:hover {\n",
              "      background-color: #434B5C;\n",
              "      box-shadow: 0px 1px 3px 1px rgba(0, 0, 0, 0.15);\n",
              "      filter: drop-shadow(0px 1px 2px rgba(0, 0, 0, 0.3));\n",
              "      fill: #FFFFFF;\n",
              "    }\n",
              "  </style>\n",
              "\n",
              "      <script>\n",
              "        const buttonEl =\n",
              "          document.querySelector('#df-eae6fc5d-26a2-4607-af7d-4b0c69e45881 button.colab-df-convert');\n",
              "        buttonEl.style.display =\n",
              "          google.colab.kernel.accessAllowed ? 'block' : 'none';\n",
              "\n",
              "        async function convertToInteractive(key) {\n",
              "          const element = document.querySelector('#df-eae6fc5d-26a2-4607-af7d-4b0c69e45881');\n",
              "          const dataTable =\n",
              "            await google.colab.kernel.invokeFunction('convertToInteractive',\n",
              "                                                     [key], {});\n",
              "          if (!dataTable) return;\n",
              "\n",
              "          const docLinkHtml = 'Like what you see? Visit the ' +\n",
              "            '<a target=\"_blank\" href=https://colab.research.google.com/notebooks/data_table.ipynb>data table notebook</a>'\n",
              "            + ' to learn more about interactive tables.';\n",
              "          element.innerHTML = '';\n",
              "          dataTable['output_type'] = 'display_data';\n",
              "          await google.colab.output.renderOutput(dataTable, element);\n",
              "          const docLink = document.createElement('div');\n",
              "          docLink.innerHTML = docLinkHtml;\n",
              "          element.appendChild(docLink);\n",
              "        }\n",
              "      </script>\n",
              "    </div>\n",
              "  </div>\n",
              "  "
            ]
          },
          "metadata": {},
          "execution_count": 17
        }
      ]
    },
    {
      "cell_type": "code",
      "source": [
        "# healines 데이터에는 시작 토큰과 종료 토큰을 추가\n",
        "data['decoder_input'] = data['headlines'].apply(lambda x : 'sostoken '+ x)\n",
        "data['decoder_target'] = data['headlines'].apply(lambda x : x + ' eostoken')\n",
        "\n",
        "#인코더의 입력, 디코더의 입력과 레이블을 각각 다시 Numpy 타입으로 저장\n",
        "encoder_input = np.array(data['text']) # 인코더의 입력\n",
        "decoder_input = np.array(data['decoder_input']) # 디코더의 입력\n",
        "decoder_target = np.array(data['decoder_target']) # 디코더의 레이블\n",
        "\n",
        "data.head(2)"
      ],
      "metadata": {
        "colab": {
          "base_uri": "https://localhost:8080/",
          "height": 208
        },
        "id": "l6cxs9_FuW2w",
        "outputId": "70d1f502-5000-4570-dc55-54021c72f411"
      },
      "execution_count": 18,
      "outputs": [
        {
          "output_type": "execute_result",
          "data": {
            "text/plain": [
              "                                           headlines  \\\n",
              "0  upgrad learner switches to career in ml al wit...   \n",
              "1  delhi techie wins free food from swiggy for on...   \n",
              "\n",
              "                                                text  \\\n",
              "0  saurav kant alumnus upgrad iiit pg program mac...   \n",
              "1  kunal shah credit card bill payment platform c...   \n",
              "\n",
              "                                       decoder_input  \\\n",
              "0  sostoken upgrad learner switches to career in ...   \n",
              "1  sostoken delhi techie wins free food from swig...   \n",
              "\n",
              "                                      decoder_target  \n",
              "0  upgrad learner switches to career in ml al wit...  \n",
              "1  delhi techie wins free food from swiggy for on...  "
            ],
            "text/html": [
              "\n",
              "  <div id=\"df-ce703f9e-1e22-471a-88af-1a8a451f773b\">\n",
              "    <div class=\"colab-df-container\">\n",
              "      <div>\n",
              "<style scoped>\n",
              "    .dataframe tbody tr th:only-of-type {\n",
              "        vertical-align: middle;\n",
              "    }\n",
              "\n",
              "    .dataframe tbody tr th {\n",
              "        vertical-align: top;\n",
              "    }\n",
              "\n",
              "    .dataframe thead th {\n",
              "        text-align: right;\n",
              "    }\n",
              "</style>\n",
              "<table border=\"1\" class=\"dataframe\">\n",
              "  <thead>\n",
              "    <tr style=\"text-align: right;\">\n",
              "      <th></th>\n",
              "      <th>headlines</th>\n",
              "      <th>text</th>\n",
              "      <th>decoder_input</th>\n",
              "      <th>decoder_target</th>\n",
              "    </tr>\n",
              "  </thead>\n",
              "  <tbody>\n",
              "    <tr>\n",
              "      <th>0</th>\n",
              "      <td>upgrad learner switches to career in ml al wit...</td>\n",
              "      <td>saurav kant alumnus upgrad iiit pg program mac...</td>\n",
              "      <td>sostoken upgrad learner switches to career in ...</td>\n",
              "      <td>upgrad learner switches to career in ml al wit...</td>\n",
              "    </tr>\n",
              "    <tr>\n",
              "      <th>1</th>\n",
              "      <td>delhi techie wins free food from swiggy for on...</td>\n",
              "      <td>kunal shah credit card bill payment platform c...</td>\n",
              "      <td>sostoken delhi techie wins free food from swig...</td>\n",
              "      <td>delhi techie wins free food from swiggy for on...</td>\n",
              "    </tr>\n",
              "  </tbody>\n",
              "</table>\n",
              "</div>\n",
              "      <button class=\"colab-df-convert\" onclick=\"convertToInteractive('df-ce703f9e-1e22-471a-88af-1a8a451f773b')\"\n",
              "              title=\"Convert this dataframe to an interactive table.\"\n",
              "              style=\"display:none;\">\n",
              "        \n",
              "  <svg xmlns=\"http://www.w3.org/2000/svg\" height=\"24px\"viewBox=\"0 0 24 24\"\n",
              "       width=\"24px\">\n",
              "    <path d=\"M0 0h24v24H0V0z\" fill=\"none\"/>\n",
              "    <path d=\"M18.56 5.44l.94 2.06.94-2.06 2.06-.94-2.06-.94-.94-2.06-.94 2.06-2.06.94zm-11 1L8.5 8.5l.94-2.06 2.06-.94-2.06-.94L8.5 2.5l-.94 2.06-2.06.94zm10 10l.94 2.06.94-2.06 2.06-.94-2.06-.94-.94-2.06-.94 2.06-2.06.94z\"/><path d=\"M17.41 7.96l-1.37-1.37c-.4-.4-.92-.59-1.43-.59-.52 0-1.04.2-1.43.59L10.3 9.45l-7.72 7.72c-.78.78-.78 2.05 0 2.83L4 21.41c.39.39.9.59 1.41.59.51 0 1.02-.2 1.41-.59l7.78-7.78 2.81-2.81c.8-.78.8-2.07 0-2.86zM5.41 20L4 18.59l7.72-7.72 1.47 1.35L5.41 20z\"/>\n",
              "  </svg>\n",
              "      </button>\n",
              "      \n",
              "  <style>\n",
              "    .colab-df-container {\n",
              "      display:flex;\n",
              "      flex-wrap:wrap;\n",
              "      gap: 12px;\n",
              "    }\n",
              "\n",
              "    .colab-df-convert {\n",
              "      background-color: #E8F0FE;\n",
              "      border: none;\n",
              "      border-radius: 50%;\n",
              "      cursor: pointer;\n",
              "      display: none;\n",
              "      fill: #1967D2;\n",
              "      height: 32px;\n",
              "      padding: 0 0 0 0;\n",
              "      width: 32px;\n",
              "    }\n",
              "\n",
              "    .colab-df-convert:hover {\n",
              "      background-color: #E2EBFA;\n",
              "      box-shadow: 0px 1px 2px rgba(60, 64, 67, 0.3), 0px 1px 3px 1px rgba(60, 64, 67, 0.15);\n",
              "      fill: #174EA6;\n",
              "    }\n",
              "\n",
              "    [theme=dark] .colab-df-convert {\n",
              "      background-color: #3B4455;\n",
              "      fill: #D2E3FC;\n",
              "    }\n",
              "\n",
              "    [theme=dark] .colab-df-convert:hover {\n",
              "      background-color: #434B5C;\n",
              "      box-shadow: 0px 1px 3px 1px rgba(0, 0, 0, 0.15);\n",
              "      filter: drop-shadow(0px 1px 2px rgba(0, 0, 0, 0.3));\n",
              "      fill: #FFFFFF;\n",
              "    }\n",
              "  </style>\n",
              "\n",
              "      <script>\n",
              "        const buttonEl =\n",
              "          document.querySelector('#df-ce703f9e-1e22-471a-88af-1a8a451f773b button.colab-df-convert');\n",
              "        buttonEl.style.display =\n",
              "          google.colab.kernel.accessAllowed ? 'block' : 'none';\n",
              "\n",
              "        async function convertToInteractive(key) {\n",
              "          const element = document.querySelector('#df-ce703f9e-1e22-471a-88af-1a8a451f773b');\n",
              "          const dataTable =\n",
              "            await google.colab.kernel.invokeFunction('convertToInteractive',\n",
              "                                                     [key], {});\n",
              "          if (!dataTable) return;\n",
              "\n",
              "          const docLinkHtml = 'Like what you see? Visit the ' +\n",
              "            '<a target=\"_blank\" href=https://colab.research.google.com/notebooks/data_table.ipynb>data table notebook</a>'\n",
              "            + ' to learn more about interactive tables.';\n",
              "          element.innerHTML = '';\n",
              "          dataTable['output_type'] = 'display_data';\n",
              "          await google.colab.output.renderOutput(dataTable, element);\n",
              "          const docLink = document.createElement('div');\n",
              "          docLink.innerHTML = docLinkHtml;\n",
              "          element.appendChild(docLink);\n",
              "        }\n",
              "      </script>\n",
              "    </div>\n",
              "  </div>\n",
              "  "
            ]
          },
          "metadata": {},
          "execution_count": 18
        }
      ]
    },
    {
      "cell_type": "markdown",
      "source": [
        "훈련 데이터와 테스트 데이터를 분리"
      ],
      "metadata": {
        "id": "eD16fpaqvvkc"
      }
    },
    {
      "cell_type": "code",
      "source": [
        "#샘플 shuffle\n",
        "indices = np.arange(encoder_input.shape[0])\n",
        "np.random.shuffle(indices)\n",
        "print(indices)\n",
        "\n",
        "encoder_input = encoder_input[indices]\n",
        "decoder_input = decoder_input[indices]\n",
        "decoder_target = decoder_target[indices]\n",
        "\n",
        "#8:2의 비율로 훈련 데이터와 테스트 데이터로 분리\n",
        "#전체 데이터의 크기에서 0.2를 곱해서 테스트 데이터의 크기를 정의\n",
        "n_of_val = int(len(encoder_input)*0.2)\n",
        "print('테스트 데이터의 수 :', n_of_val)   #19,641\n",
        "\n",
        "#정의한 테스트 데이터의 개수를 이용해 전체 데이터를 양분\n",
        "encoder_input_train = encoder_input[:-n_of_val]\n",
        "decoder_input_train = decoder_input[:-n_of_val]\n",
        "decoder_target_train = decoder_target[:-n_of_val]\n",
        "\n",
        "encoder_input_test = encoder_input[-n_of_val:]\n",
        "decoder_input_test = decoder_input[-n_of_val:]\n",
        "decoder_target_test = decoder_target[-n_of_val:]\n",
        "\n",
        "print('훈련 데이터의 개수 :', len(encoder_input_train))   #78,566\n",
        "print('훈련 레이블의 개수 :', len(decoder_input_train))   #78,566\n",
        "print('테스트 데이터의 개수 :', len(encoder_input_test))  #19,641\n",
        "print('테스트 레이블의 개수 :', len(decoder_input_test))  #19,641"
      ],
      "metadata": {
        "colab": {
          "base_uri": "https://localhost:8080/"
        },
        "id": "ySZLKsWNviyz",
        "outputId": "745d042d-d7b0-4b80-cae7-c354bb57a2b7"
      },
      "execution_count": 19,
      "outputs": [
        {
          "output_type": "stream",
          "name": "stdout",
          "text": [
            "[58243  1261  6351 ... 27951 28149  8480]\n",
            "테스트 데이터의 수 : 19641\n",
            "훈련 데이터의 개수 : 78566\n",
            "훈련 레이블의 개수 : 78566\n",
            "테스트 데이터의 개수 : 19641\n",
            "테스트 레이블의 개수 : 19641\n"
          ]
        }
      ]
    },
    {
      "cell_type": "markdown",
      "source": [
        "단어 집합(vocabulary) & 희귀단어 제외 & 정수시퀀스 변환"
      ],
      "metadata": {
        "id": "se5rQKkDwNOJ"
      }
    },
    {
      "cell_type": "code",
      "source": [
        "#encoder_input_train\n",
        "\n",
        "#토크나이저 정의 및 단어 집합 생성\n",
        "src_tokenizer = Tokenizer()\n",
        "src_tokenizer.fit_on_texts(encoder_input_train)   \n",
        "\n",
        "#등장 빈도가 7회 미만인 단어 비중확인\n",
        "threshold = 7\n",
        "total_cnt = len(src_tokenizer.word_index) # 단어의 수\n",
        "rare_cnt = 0 # 등장 빈도수가 threshold보다 작은 단어의 개수를 카운트\n",
        "total_freq = 0 # 훈련 데이터의 전체 단어 빈도수 총 합\n",
        "rare_freq = 0 # 등장 빈도수가 threshold보다 작은 단어의 등장 빈도수의 총 합\n",
        "\n",
        "# 단어와 빈도수의 쌍(pair)을 key와 value로 받는다.\n",
        "for key, value in src_tokenizer.word_counts.items():\n",
        "    total_freq = total_freq + value\n",
        "\n",
        "    # 단어의 등장 빈도수가 threshold보다 작으면\n",
        "    if(value < threshold):\n",
        "        rare_cnt = rare_cnt + 1\n",
        "        rare_freq = rare_freq + value\n",
        "\n",
        "print('단어 집합(vocabulary)의 크기 :', total_cnt)\n",
        "print('등장 빈도가 %s번 이하인 희귀 단어의 수: %s'%(threshold - 1, rare_cnt))\n",
        "print('단어 집합에서 희귀 단어를 제외시킬 경우의 단어 집합의 크기 %s'%(total_cnt - rare_cnt))\n",
        "print(\"단어 집합에서 희귀 단어의 비율:\", (rare_cnt / total_cnt)*100)\n",
        "print(\"전체 등장 빈도에서 희귀 단어 등장 빈도 비율:\", (rare_freq / total_freq)*100)"
      ],
      "metadata": {
        "colab": {
          "base_uri": "https://localhost:8080/"
        },
        "id": "_A0VXc7av15N",
        "outputId": "4610af70-b493-41ae-bd8c-d9dea3603426"
      },
      "execution_count": 20,
      "outputs": [
        {
          "output_type": "stream",
          "name": "stdout",
          "text": [
            "단어 집합(vocabulary)의 크기 : 69635\n",
            "등장 빈도가 6번 이하인 희귀 단어의 수: 47428\n",
            "단어 집합에서 희귀 단어를 제외시킬 경우의 단어 집합의 크기 22207\n",
            "단어 집합에서 희귀 단어의 비율: 68.10942773030804\n",
            "전체 등장 빈도에서 희귀 단어 등장 빈도 비율: 3.4792313998911446\n"
          ]
        }
      ]
    },
    {
      "cell_type": "code",
      "source": [
        "#단어 집합의 크기를 20,000으로 제한\n",
        "src_vocab = 20000\n",
        "src_tokenizer = Tokenizer(num_words=src_vocab) # 단어 집합의 크기 제한 \n",
        "src_tokenizer.fit_on_texts(encoder_input_train) # 단어 집합 재생성\n",
        "\n",
        "\n",
        "# 텍스트 시퀀스를 정수 시퀀스로 변환\n",
        "encoder_input_train = src_tokenizer.texts_to_sequences(encoder_input_train) \n",
        "encoder_input_test = src_tokenizer.texts_to_sequences(encoder_input_test)\n",
        "\n",
        "# 잘 진행되었는지 샘플 출력\n",
        "print(encoder_input_train[:1])"
      ],
      "metadata": {
        "colab": {
          "base_uri": "https://localhost:8080/"
        },
        "id": "hfww03RPx6RW",
        "outputId": "759b1be7-e2a0-42b8-a646-dda8a39da718"
      },
      "execution_count": 21,
      "outputs": [
        {
          "output_type": "stream",
          "name": "stdout",
          "text": [
            "[[825, 79, 339, 361, 3230, 526, 271, 2056, 18451, 2622, 460, 79, 2057, 4851, 230, 17497, 460, 4333, 460, 6, 1037, 10699, 33, 12191, 1778, 1353, 1861, 162, 18451]]\n"
          ]
        }
      ]
    },
    {
      "cell_type": "code",
      "source": [
        "#decoder_input_train\n",
        "\n",
        "tar_tokenizer = Tokenizer()\n",
        "tar_tokenizer.fit_on_texts(decoder_input_train)\n",
        "\n",
        "threshold = 6\n",
        "total_cnt = len(tar_tokenizer.word_index) # 단어의 수\n",
        "rare_cnt = 0 # 등장 빈도수가 threshold보다 작은 단어의 개수를 카운트\n",
        "total_freq = 0 # 훈련 데이터의 전체 단어 빈도수 총 합\n",
        "rare_freq = 0 # 등장 빈도수가 threshold보다 작은 단어의 등장 빈도수의 총 합\n",
        "\n",
        "# 단어와 빈도수의 쌍(pair)을 key와 value로 받는다.\n",
        "for key, value in tar_tokenizer.word_counts.items():\n",
        "    total_freq = total_freq + value\n",
        "\n",
        "    # 단어의 등장 빈도수가 threshold보다 작으면\n",
        "    if(value < threshold):\n",
        "        rare_cnt = rare_cnt + 1\n",
        "        rare_freq = rare_freq + value\n",
        "\n",
        "print('단어 집합(vocabulary)의 크기 :', total_cnt)\n",
        "print('등장 빈도가 %s번 이하인 희귀 단어의 수: %s'%(threshold - 1, rare_cnt))\n",
        "print('단어 집합에서 희귀 단어를 제외시킬 경우의 단어 집합의 크기 %s'%(total_cnt - rare_cnt))\n",
        "print(\"단어 집합에서 희귀 단어의 비율:\", (rare_cnt / total_cnt)*100)\n",
        "print(\"전체 등장 빈도에서 희귀 단어 등장 빈도 비율:\", (rare_freq / total_freq)*100)"
      ],
      "metadata": {
        "colab": {
          "base_uri": "https://localhost:8080/"
        },
        "id": "6a-_tsUwyb87",
        "outputId": "31801793-ce15-4550-8615-579b55e99888"
      },
      "execution_count": 22,
      "outputs": [
        {
          "output_type": "stream",
          "name": "stdout",
          "text": [
            "단어 집합(vocabulary)의 크기 : 30062\n",
            "등장 빈도가 5번 이하인 희귀 단어의 수: 19626\n",
            "단어 집합에서 희귀 단어를 제외시킬 경우의 단어 집합의 크기 10436\n",
            "단어 집합에서 희귀 단어의 비율: 65.2850775064866\n",
            "전체 등장 빈도에서 희귀 단어 등장 빈도 비율: 4.648337714550797\n"
          ]
        }
      ]
    },
    {
      "cell_type": "code",
      "source": [
        "#단어 집합의 크기를 10,000으로 제한\n",
        "tar_vocab = 10000\n",
        "tar_tokenizer = Tokenizer(num_words=tar_vocab) \n",
        "tar_tokenizer.fit_on_texts(decoder_input_train)\n",
        "tar_tokenizer.fit_on_texts(decoder_target_train)\n",
        "\n",
        "# 텍스트 시퀀스를 정수 시퀀스로 변환\n",
        "decoder_input_train = tar_tokenizer.texts_to_sequences(decoder_input_train) \n",
        "decoder_target_train = tar_tokenizer.texts_to_sequences(decoder_target_train)\n",
        "decoder_input_test = tar_tokenizer.texts_to_sequences(decoder_input_test)\n",
        "decoder_target_test = tar_tokenizer.texts_to_sequences(decoder_target_test)\n",
        "\n",
        "# 잘 변환되었는지 확인\n",
        "print('input')\n",
        "print('input ',decoder_input_train[:1])\n",
        "print('target')\n",
        "print('decoder ',decoder_target_train[:1])"
      ],
      "metadata": {
        "colab": {
          "base_uri": "https://localhost:8080/"
        },
        "id": "L1-vJm7Nylm0",
        "outputId": "14181087-d135-4363-b90d-309b10f3adb3"
      },
      "execution_count": 23,
      "outputs": [
        {
          "output_type": "stream",
          "name": "stdout",
          "text": [
            "input\n",
            "input  [[1, 252, 2237, 4, 3166, 242]]\n",
            "target\n",
            "decoder  [[252, 2237, 4, 3166, 242, 2]]\n"
          ]
        }
      ]
    },
    {
      "cell_type": "code",
      "source": [
        "#훈련 데이터와 테스트 데이터에 대해서 요약문의 길이가 1인 경우 삭제\n",
        "\n",
        "drop_train = [index for index, sentence in enumerate(decoder_input_train) if len(sentence) == 1]\n",
        "drop_test = [index for index, sentence in enumerate(decoder_input_test) if len(sentence) == 1]\n",
        "\n",
        "print('삭제할 훈련 데이터의 개수 :', len(drop_train))\n",
        "print('삭제할 테스트 데이터의 개수 :', len(drop_test))\n",
        "\n",
        "encoder_input_train = [sentence for index, sentence in enumerate(encoder_input_train) if index not in drop_train]\n",
        "decoder_input_train = [sentence for index, sentence in enumerate(decoder_input_train) if index not in drop_train]\n",
        "decoder_target_train = [sentence for index, sentence in enumerate(decoder_target_train) if index not in drop_train]\n",
        "\n",
        "encoder_input_test = [sentence for index, sentence in enumerate(encoder_input_test) if index not in drop_test]\n",
        "decoder_input_test = [sentence for index, sentence in enumerate(decoder_input_test) if index not in drop_test]\n",
        "decoder_target_test = [sentence for index, sentence in enumerate(decoder_target_test) if index not in drop_test]\n",
        "\n",
        "print('훈련 데이터의 개수 :', len(encoder_input_train))\n",
        "print('훈련 레이블의 개수 :', len(decoder_input_train))\n",
        "print('테스트 데이터의 개수 :', len(encoder_input_test))\n",
        "print('테스트 레이블의 개수 :', len(decoder_input_test))"
      ],
      "metadata": {
        "colab": {
          "base_uri": "https://localhost:8080/"
        },
        "id": "S4eyocimyzYh",
        "outputId": "d892ac06-7e23-4755-e017-af2e51c7b5d1"
      },
      "execution_count": 24,
      "outputs": [
        {
          "output_type": "stream",
          "name": "stdout",
          "text": [
            "삭제할 훈련 데이터의 개수 : 0\n",
            "삭제할 테스트 데이터의 개수 : 1\n",
            "훈련 데이터의 개수 : 78566\n",
            "훈련 레이블의 개수 : 78566\n",
            "테스트 데이터의 개수 : 19640\n",
            "테스트 레이블의 개수 : 19640\n"
          ]
        }
      ]
    },
    {
      "cell_type": "code",
      "source": [
        "#패딩하기\n",
        "text_max_len = 50\n",
        "summary_max_len = 13\n",
        "\n",
        "encoder_input_train = pad_sequences(encoder_input_train, maxlen=text_max_len, padding='post')\n",
        "encoder_input_test = pad_sequences(encoder_input_test, maxlen=text_max_len, padding='post')\n",
        "decoder_input_train = pad_sequences(decoder_input_train, maxlen=summary_max_len, padding='post')\n",
        "decoder_target_train = pad_sequences(decoder_target_train, maxlen=summary_max_len, padding='post')\n",
        "decoder_input_test = pad_sequences(decoder_input_test, maxlen=summary_max_len, padding='post')\n",
        "decoder_target_test = pad_sequences(decoder_target_test, maxlen=summary_max_len, padding='post')"
      ],
      "metadata": {
        "id": "A_2DKyFLy77z"
      },
      "execution_count": 25,
      "outputs": []
    },
    {
      "cell_type": "markdown",
      "source": [
        "Step3. 어텐션 메커니즘 사용하기\n",
        ">어텐션 메커니즘을 사용한 seq2seq"
      ],
      "metadata": {
        "id": "epDTpo50zGMs"
      }
    },
    {
      "cell_type": "code",
      "source": [
        "# 인코더 설계 시작\n",
        "embedding_dim = 128\n",
        "hidden_size = 256  #hidden state: LSTM에서 얼만큼의 수용력(capacity)를 가질지를 정하는 파라미터(용량의 크기 또는 뉴런의 개수라고 이해)\n",
        "\n",
        "# 인코더\n",
        "encoder_inputs = Input(shape=(text_max_len,))\n",
        "\n",
        "# 인코더의 임베딩 층\n",
        "enc_emb = Embedding(src_vocab, embedding_dim)(encoder_inputs)\n",
        "\n",
        "# 인코더의 LSTM 1\n",
        "# encoder_lstm1 = LSTM(hidden_size, return_sequences=True, return_state=True ,dropout = 0.4, \n",
        "#                      recurrent_dropout = 0.4)\n",
        "encoder_lstm1 = LSTM(hidden_size, return_sequences=True, return_state=True ,dropout = 0.4)\n",
        "encoder_output1, state_h1, state_c1 = encoder_lstm1(enc_emb)\n",
        "\n",
        "# 인코더의 LSTM 2\n",
        "encoder_lstm2 = LSTM(hidden_size, return_sequences=True, return_state=True ,dropout = 0.4)\n",
        "encoder_output2, state_h2, state_c2 = encoder_lstm2(encoder_output1)\n",
        "\n",
        "\n",
        "# 인코더의 LSTM 3\n",
        "encoder_lstm3 = LSTM(hidden_size, return_sequences=True, return_state=True ,dropout = 0.4)\n",
        "encoder_outputs, state_h, state_c = encoder_lstm3(encoder_output2)\n",
        "\n",
        "\n",
        "\n",
        "# 디코더 설계\n",
        "decoder_inputs = Input(shape=(None,))\n",
        "\n",
        "# 디코더의 임베딩 층\n",
        "dec_emb_layer = Embedding(tar_vocab, embedding_dim)\n",
        "dec_emb = dec_emb_layer(decoder_inputs)\n",
        "\n",
        "# 디코더의 LSTM\n",
        "# decoder_lstm = LSTM(hidden_size, return_sequences=True, return_state=True, dropout=0.4, recurrent_dropout=0.2)\n",
        "decoder_lstm = LSTM(hidden_size, return_sequences=True, return_state=True, dropout=0.4)\n",
        "decoder_outputs, _, _ = decoder_lstm(dec_emb, initial_state=[state_h, state_c])\n",
        "\n",
        "# 디코더의 출력층\n",
        "decoder_softmax_layer = Dense(tar_vocab, activation='softmax')\n",
        "decoder_softmax_outputs = decoder_softmax_layer(decoder_outputs) \n",
        "\n",
        "# 모델 정의\n",
        "model = Model([encoder_inputs, decoder_inputs], decoder_softmax_outputs)\n",
        "model.summary()"
      ],
      "metadata": {
        "colab": {
          "base_uri": "https://localhost:8080/"
        },
        "id": "ghIfO_8wzDE6",
        "outputId": "f4ce311b-d1bc-40d5-8b67-4bcb73a01743"
      },
      "execution_count": 26,
      "outputs": [
        {
          "output_type": "stream",
          "name": "stdout",
          "text": [
            "Model: \"model\"\n",
            "__________________________________________________________________________________________________\n",
            " Layer (type)                   Output Shape         Param #     Connected to                     \n",
            "==================================================================================================\n",
            " input_1 (InputLayer)           [(None, 50)]         0           []                               \n",
            "                                                                                                  \n",
            " embedding (Embedding)          (None, 50, 128)      2560000     ['input_1[0][0]']                \n",
            "                                                                                                  \n",
            " lstm (LSTM)                    [(None, 50, 256),    394240      ['embedding[0][0]']              \n",
            "                                 (None, 256),                                                     \n",
            "                                 (None, 256)]                                                     \n",
            "                                                                                                  \n",
            " input_2 (InputLayer)           [(None, None)]       0           []                               \n",
            "                                                                                                  \n",
            " lstm_1 (LSTM)                  [(None, 50, 256),    525312      ['lstm[0][0]']                   \n",
            "                                 (None, 256),                                                     \n",
            "                                 (None, 256)]                                                     \n",
            "                                                                                                  \n",
            " embedding_1 (Embedding)        (None, None, 128)    1280000     ['input_2[0][0]']                \n",
            "                                                                                                  \n",
            " lstm_2 (LSTM)                  [(None, 50, 256),    525312      ['lstm_1[0][0]']                 \n",
            "                                 (None, 256),                                                     \n",
            "                                 (None, 256)]                                                     \n",
            "                                                                                                  \n",
            " lstm_3 (LSTM)                  [(None, None, 256),  394240      ['embedding_1[0][0]',            \n",
            "                                 (None, 256),                     'lstm_2[0][1]',                 \n",
            "                                 (None, 256)]                     'lstm_2[0][2]']                 \n",
            "                                                                                                  \n",
            " dense (Dense)                  (None, None, 10000)  2570000     ['lstm_3[0][0]']                 \n",
            "                                                                                                  \n",
            "==================================================================================================\n",
            "Total params: 8,249,104\n",
            "Trainable params: 8,249,104\n",
            "Non-trainable params: 0\n",
            "__________________________________________________________________________________________________\n"
          ]
        }
      ]
    },
    {
      "cell_type": "code",
      "source": [
        "# 어텐션 층(어텐션 함수)\n",
        "attn_layer = AdditiveAttention(name='attention_layer')\n",
        "\n",
        "# 인코더와 디코더의 모든 time step의 hidden state를 어텐션 층에 전달하고 결과를 리턴\n",
        "attn_out = attn_layer([decoder_outputs, encoder_outputs])\n",
        "\n",
        "\n",
        "# 어텐션의 결과와 디코더의 hidden state들을 연결\n",
        "decoder_concat_input = Concatenate(axis=-1, name='concat_layer')([decoder_outputs, attn_out])\n",
        "\n",
        "# 디코더의 출력층\n",
        "decoder_softmax_layer = Dense(tar_vocab, activation='softmax')\n",
        "decoder_softmax_outputs = decoder_softmax_layer(decoder_concat_input)\n",
        "\n",
        "# 모델 정의\n",
        "model = Model([encoder_inputs, decoder_inputs], decoder_softmax_outputs)\n",
        "model.summary()"
      ],
      "metadata": {
        "colab": {
          "base_uri": "https://localhost:8080/"
        },
        "id": "RNarYTurzswa",
        "outputId": "dffe7cbc-5569-48f8-f1fb-45d83a4d0181"
      },
      "execution_count": 27,
      "outputs": [
        {
          "output_type": "stream",
          "name": "stdout",
          "text": [
            "Model: \"model_1\"\n",
            "__________________________________________________________________________________________________\n",
            " Layer (type)                   Output Shape         Param #     Connected to                     \n",
            "==================================================================================================\n",
            " input_1 (InputLayer)           [(None, 50)]         0           []                               \n",
            "                                                                                                  \n",
            " embedding (Embedding)          (None, 50, 128)      2560000     ['input_1[0][0]']                \n",
            "                                                                                                  \n",
            " lstm (LSTM)                    [(None, 50, 256),    394240      ['embedding[0][0]']              \n",
            "                                 (None, 256),                                                     \n",
            "                                 (None, 256)]                                                     \n",
            "                                                                                                  \n",
            " input_2 (InputLayer)           [(None, None)]       0           []                               \n",
            "                                                                                                  \n",
            " lstm_1 (LSTM)                  [(None, 50, 256),    525312      ['lstm[0][0]']                   \n",
            "                                 (None, 256),                                                     \n",
            "                                 (None, 256)]                                                     \n",
            "                                                                                                  \n",
            " embedding_1 (Embedding)        (None, None, 128)    1280000     ['input_2[0][0]']                \n",
            "                                                                                                  \n",
            " lstm_2 (LSTM)                  [(None, 50, 256),    525312      ['lstm_1[0][0]']                 \n",
            "                                 (None, 256),                                                     \n",
            "                                 (None, 256)]                                                     \n",
            "                                                                                                  \n",
            " lstm_3 (LSTM)                  [(None, None, 256),  394240      ['embedding_1[0][0]',            \n",
            "                                 (None, 256),                     'lstm_2[0][1]',                 \n",
            "                                 (None, 256)]                     'lstm_2[0][2]']                 \n",
            "                                                                                                  \n",
            " attention_layer (AdditiveAtten  (None, None, 256)   256         ['lstm_3[0][0]',                 \n",
            " tion)                                                            'lstm_2[0][0]']                 \n",
            "                                                                                                  \n",
            " concat_layer (Concatenate)     (None, None, 512)    0           ['lstm_3[0][0]',                 \n",
            "                                                                  'attention_layer[0][0]']        \n",
            "                                                                                                  \n",
            " dense_1 (Dense)                (None, None, 10000)  5130000     ['concat_layer[0][0]']           \n",
            "                                                                                                  \n",
            "==================================================================================================\n",
            "Total params: 10,809,360\n",
            "Trainable params: 10,809,360\n",
            "Non-trainable params: 0\n",
            "__________________________________________________________________________________________________\n"
          ]
        }
      ]
    },
    {
      "cell_type": "code",
      "source": [
        "#모델훈련하기\n",
        "model.compile(optimizer='rmsprop', loss='sparse_categorical_crossentropy')\n",
        "\n",
        "es = EarlyStopping(monitor='val_loss', patience=2, verbose=1)\n",
        "\n",
        "history = model.fit(x=[encoder_input_train, decoder_input_train], y=decoder_target_train, \\\n",
        "          validation_data=([encoder_input_test, decoder_input_test], decoder_target_test), \\\n",
        "          batch_size=256, callbacks=[es], epochs=50)"
      ],
      "metadata": {
        "colab": {
          "base_uri": "https://localhost:8080/"
        },
        "id": "IJr-oVatzvPk",
        "outputId": "9e2dbdf4-f9e1-42b5-d390-2fe755a90779"
      },
      "execution_count": null,
      "outputs": [
        {
          "output_type": "stream",
          "name": "stdout",
          "text": [
            "Epoch 1/50\n",
            "307/307 [==============================] - 63s 165ms/step - loss: 5.4970 - val_loss: 5.1628\n",
            "Epoch 2/50\n",
            "307/307 [==============================] - 38s 124ms/step - loss: 5.1885 - val_loss: 5.0795\n",
            "Epoch 3/50\n",
            "307/307 [==============================] - 37s 119ms/step - loss: 5.0916 - val_loss: 4.9874\n",
            "Epoch 4/50\n",
            "307/307 [==============================] - 35s 116ms/step - loss: 4.9758 - val_loss: 4.8527\n",
            "Epoch 5/50\n",
            "307/307 [==============================] - 35s 116ms/step - loss: 4.8088 - val_loss: 4.6944\n",
            "Epoch 6/50\n",
            "307/307 [==============================] - 35s 115ms/step - loss: 4.6757 - val_loss: 4.6075\n",
            "Epoch 7/50\n",
            "307/307 [==============================] - 35s 114ms/step - loss: 4.5860 - val_loss: 4.5265\n",
            "Epoch 8/50\n",
            "307/307 [==============================] - 35s 113ms/step - loss: 4.4947 - val_loss: 4.4454\n",
            "Epoch 9/50\n",
            "307/307 [==============================] - 35s 114ms/step - loss: 4.4064 - val_loss: 4.3772\n",
            "Epoch 10/50\n",
            "307/307 [==============================] - 35s 114ms/step - loss: 4.3283 - val_loss: 4.3215\n",
            "Epoch 11/50\n",
            "307/307 [==============================] - 35s 113ms/step - loss: 4.2510 - val_loss: 4.2443\n",
            "Epoch 12/50\n",
            "307/307 [==============================] - 35s 113ms/step - loss: 4.1704 - val_loss: 4.1809\n",
            "Epoch 13/50\n",
            "307/307 [==============================] - 34s 112ms/step - loss: 4.0911 - val_loss: 4.1091\n",
            "Epoch 14/50\n",
            "307/307 [==============================] - 34s 112ms/step - loss: 4.0146 - val_loss: 4.0673\n",
            "Epoch 15/50\n",
            "307/307 [==============================] - 35s 113ms/step - loss: 3.9438 - val_loss: 4.0063\n",
            "Epoch 16/50\n",
            "307/307 [==============================] - 34s 112ms/step - loss: 3.8764 - val_loss: 3.9650\n",
            "Epoch 17/50\n",
            "307/307 [==============================] - 34s 112ms/step - loss: 3.8137 - val_loss: 3.9201\n",
            "Epoch 18/50\n",
            "307/307 [==============================] - 34s 112ms/step - loss: 3.7538 - val_loss: 3.8830\n",
            "Epoch 19/50\n",
            "307/307 [==============================] - 34s 112ms/step - loss: 3.6987 - val_loss: 3.8464\n",
            "Epoch 20/50\n",
            "307/307 [==============================] - 34s 112ms/step - loss: 3.6460 - val_loss: 3.8241\n",
            "Epoch 21/50\n",
            "307/307 [==============================] - 35s 112ms/step - loss: 3.5969 - val_loss: 3.7879\n",
            "Epoch 22/50\n",
            "307/307 [==============================] - 34s 112ms/step - loss: 3.5493 - val_loss: 3.7577\n",
            "Epoch 23/50\n",
            "307/307 [==============================] - 34s 112ms/step - loss: 3.5031 - val_loss: 3.7328\n",
            "Epoch 24/50\n",
            "307/307 [==============================] - 35s 112ms/step - loss: 3.4591 - val_loss: 3.7107\n",
            "Epoch 25/50\n",
            "307/307 [==============================] - 34s 112ms/step - loss: 3.4164 - val_loss: 3.6868\n",
            "Epoch 26/50\n",
            "307/307 [==============================] - 34s 112ms/step - loss: 3.3756 - val_loss: 3.6661\n",
            "Epoch 27/50\n",
            "307/307 [==============================] - 34s 112ms/step - loss: 3.3352 - val_loss: 3.6595\n",
            "Epoch 28/50\n",
            "307/307 [==============================] - 35s 113ms/step - loss: 3.2981 - val_loss: 3.6307\n",
            "Epoch 29/50\n",
            "307/307 [==============================] - 35s 113ms/step - loss: 3.2608 - val_loss: 3.6151\n",
            "Epoch 30/50\n",
            "307/307 [==============================] - 34s 112ms/step - loss: 3.2263 - val_loss: 3.5980\n",
            "Epoch 31/50\n",
            "307/307 [==============================] - 34s 112ms/step - loss: 3.1908 - val_loss: 3.5863\n",
            "Epoch 32/50\n",
            "307/307 [==============================] - 34s 112ms/step - loss: 3.1575 - val_loss: 3.5692\n",
            "Epoch 33/50\n",
            "307/307 [==============================] - 34s 112ms/step - loss: 3.1258 - val_loss: 3.5598\n",
            "Epoch 34/50\n",
            "307/307 [==============================] - 34s 112ms/step - loss: 3.0935 - val_loss: 3.5476\n",
            "Epoch 35/50\n",
            "307/307 [==============================] - 34s 112ms/step - loss: 3.0634 - val_loss: 3.5348\n",
            "Epoch 36/50\n",
            "307/307 [==============================] - 34s 112ms/step - loss: 3.0325 - val_loss: 3.5336\n",
            "Epoch 37/50\n",
            "307/307 [==============================] - 34s 112ms/step - loss: 3.0030 - val_loss: 3.5126\n",
            "Epoch 38/50\n",
            "307/307 [==============================] - 34s 112ms/step - loss: 2.9758 - val_loss: 3.5113\n",
            "Epoch 39/50\n",
            "307/307 [==============================] - 34s 112ms/step - loss: 2.9477 - val_loss: 3.5002\n",
            "Epoch 40/50\n",
            "307/307 [==============================] - 34s 112ms/step - loss: 2.9196 - val_loss: 3.4934\n",
            "Epoch 41/50\n",
            "307/307 [==============================] - 34s 112ms/step - loss: 2.8939 - val_loss: 3.4831\n",
            "Epoch 42/50\n",
            "307/307 [==============================] - 34s 112ms/step - loss: 2.8679 - val_loss: 3.4789\n",
            "Epoch 43/50\n",
            "307/307 [==============================] - 34s 112ms/step - loss: 2.8427 - val_loss: 3.4740\n",
            "Epoch 44/50\n",
            "307/307 [==============================] - 34s 112ms/step - loss: 2.8184 - val_loss: 3.4694\n",
            "Epoch 45/50\n",
            "307/307 [==============================] - 34s 112ms/step - loss: 2.7946 - val_loss: 3.4586\n",
            "Epoch 46/50\n",
            "307/307 [==============================] - 34s 112ms/step - loss: 2.7699 - val_loss: 3.4556\n",
            "Epoch 47/50\n",
            "307/307 [==============================] - 34s 112ms/step - loss: 2.7479 - val_loss: 3.4491\n",
            "Epoch 48/50\n",
            "307/307 [==============================] - 34s 112ms/step - loss: 2.7241 - val_loss: 3.4469\n",
            "Epoch 49/50\n",
            "307/307 [==============================] - 34s 112ms/step - loss: 2.7024 - val_loss: 3.4443\n",
            "Epoch 50/50\n",
            "307/307 [==============================] - 35s 112ms/step - loss: 2.6801 - val_loss: 3.4397\n"
          ]
        }
      ]
    },
    {
      "cell_type": "code",
      "source": [
        "#모델 저장 (https://ssongnote.tistory.com/12)\n",
        "from tensorflow.python.keras.models import load_model\n",
        "model.save('model_230526.h5')"
      ],
      "metadata": {
        "id": "sDjg7dbzM8y5"
      },
      "execution_count": null,
      "outputs": []
    },
    {
      "cell_type": "code",
      "source": [
        "#모델 불러오기\n",
        "\"\"\"\n",
        "model.compile(optimizer='rmsprop', loss='sparse_categorical_crossentropy')\n",
        "es = EarlyStopping(monitor='val_loss', patience=2, verbose=1)\n",
        "\"\"\"\n",
        "model = load_model('model_230526.h5', compile=False)"
      ],
      "metadata": {
        "id": "MBuQnYKehuW6"
      },
      "execution_count": 56,
      "outputs": []
    },
    {
      "cell_type": "markdown",
      "source": [
        "인퍼런스 모델 구현"
      ],
      "metadata": {
        "id": "W5wpmO7-RF4N"
      }
    },
    {
      "cell_type": "code",
      "source": [
        "#테스트 단계에서는 정수 인덱스 행렬로 존재하던 텍스트 데이터를 실제 데이터로 복원\n",
        "#필요한 3개의 사전\n",
        "src_index_to_word = src_tokenizer.index_word # 원문 단어 집합에서 정수 -> 단어를 얻음\n",
        "tar_word_to_index = tar_tokenizer.word_index # 요약 단어 집합에서 단어 -> 정수를 얻음\n",
        "tar_index_to_word = tar_tokenizer.index_word # 요약 단어 집합에서 정수 -> 단어를 얻음\n",
        "\n",
        "#인코더 모델과 디코더 모델을 분리해서 설계\n",
        "# 인코더 설계\n",
        "encoder_model = Model(inputs=encoder_inputs, outputs=[encoder_outputs, state_h, state_c])\n",
        "\n",
        "# 이전 시점의 상태들을 저장하는 텐서\n",
        "decoder_state_input_h = Input(shape=(hidden_size,))\n",
        "decoder_state_input_c = Input(shape=(hidden_size,))\n",
        "\n",
        "dec_emb2 = dec_emb_layer(decoder_inputs)\n",
        "\n",
        "# 문장의 다음 단어를 예측하기 위해서 초기 상태(initial_state)를 이전 시점의 상태로 사용. 이는 뒤의 함수 decode_sequence()에 구현\n",
        "# 훈련 과정에서와 달리 LSTM의 리턴하는 은닉 상태와 셀 상태인 state_h와 state_c를 버리지 않음.\n",
        "decoder_outputs2, state_h2, state_c2 = decoder_lstm(dec_emb2, initial_state=[decoder_state_input_h, decoder_state_input_c])"
      ],
      "metadata": {
        "id": "VQnCy8wpQ1o4"
      },
      "execution_count": 42,
      "outputs": []
    },
    {
      "cell_type": "code",
      "source": [
        "#어텐션 메커니즘을 사용하는 출력층을 설계\n",
        "# 어텐션 함수\n",
        "decoder_hidden_state_input = Input(shape=(text_max_len, hidden_size))\n",
        "attn_out_inf = attn_layer([decoder_outputs2, decoder_hidden_state_input])\n",
        "decoder_inf_concat = Concatenate(axis=-1, name='concat')([decoder_outputs2, attn_out_inf])\n",
        "\n",
        "# 디코더의 출력층\n",
        "decoder_outputs2 = decoder_softmax_layer(decoder_inf_concat) \n",
        "\n",
        "# 최종 디코더 모델\n",
        "decoder_model = Model(\n",
        "    [decoder_inputs] + [decoder_hidden_state_input,decoder_state_input_h, decoder_state_input_c],\n",
        "    [decoder_outputs2] + [state_h2, state_c2])"
      ],
      "metadata": {
        "id": "lCefrHCDRMAO"
      },
      "execution_count": 43,
      "outputs": []
    },
    {
      "cell_type": "code",
      "source": [
        "#인퍼런스 단계에서 단어 시퀀스를 완성하는 함수\n",
        "def decode_sequence(input_seq):\n",
        "    # 입력으로부터 인코더의 상태를 얻음\n",
        "    e_out, e_h, e_c = encoder_model.predict(input_seq)\n",
        "\n",
        "     # <SOS>에 해당하는 토큰 생성\n",
        "    target_seq = np.zeros((1,1))\n",
        "    target_seq[0, 0] = tar_word_to_index['sostoken']\n",
        "\n",
        "    stop_condition = False\n",
        "    decoded_sentence = ''\n",
        "    while not stop_condition: # stop_condition이 True가 될 때까지 루프 반복\n",
        "\n",
        "        output_tokens, h, c = decoder_model.predict([target_seq] + [e_out, e_h, e_c])\n",
        "        sampled_token_index = np.argmax(output_tokens[0, -1, :])\n",
        "        sampled_token = tar_index_to_word[sampled_token_index]\n",
        "\n",
        "        if (sampled_token!='eostoken'):\n",
        "            decoded_sentence += ' '+sampled_token\n",
        "\n",
        "        #  <eos>에 도달하거나 최대 길이를 넘으면 중단.\n",
        "        if (sampled_token == 'eostoken'  or len(decoded_sentence.split()) >= (summary_max_len-1)):\n",
        "            stop_condition = True\n",
        "\n",
        "        # 길이가 1인 타겟 시퀀스를 업데이트\n",
        "        target_seq = np.zeros((1,1))\n",
        "        target_seq[0, 0] = sampled_token_index\n",
        "\n",
        "        # 상태를 업데이트 합니다.\n",
        "        e_h, e_c = h, c\n",
        "\n",
        "    return decoded_sentence"
      ],
      "metadata": {
        "id": "0HahXxQQROf3"
      },
      "execution_count": 44,
      "outputs": []
    },
    {
      "cell_type": "code",
      "source": [
        "#요약문의 정수 시퀀스를 텍스트로 변환하는 seq2summary 함수 코드\n",
        "\"\"\"\n",
        "Text의 정수 시퀀스에서는 패딩을 위해 사용되는 숫자 0을 제외하고 \n",
        "Summary의 정수 시퀀스에서는 숫자 0, 시작 토큰의 인덱스, 종료 토큰의 인덱스를 출력에서 제외\n",
        "\"\"\"\n",
        "\n",
        "# 원문의 정수 시퀀스를 텍스트 시퀀스로 변환\n",
        "def seq2text(input_seq):\n",
        "    temp=''\n",
        "    for i in input_seq:\n",
        "        if (i!=0):\n",
        "            temp = temp + src_index_to_word[i]+' '\n",
        "    return temp\n",
        "\n",
        "# 요약문의 정수 시퀀스를 텍스트 시퀀스로 변환  \n",
        "def seq2summary(input_seq):\n",
        "    # [[YOUR CODE]]\n",
        "    temp=''\n",
        "    for i in input_seq:\n",
        "        if((i!=0 and i!=['sostoken']) and i!=tar_word_to_index['eostoken']):\n",
        "            temp = temp + src_index_to_word[i]+' '\n",
        "    return temp\n"
      ],
      "metadata": {
        "id": "ARnqEHKrRQzC"
      },
      "execution_count": 48,
      "outputs": []
    },
    {
      "cell_type": "markdown",
      "source": [
        "Step4. 실제 결과와 요약문 비교하기"
      ],
      "metadata": {
        "id": "Dem9QlihRnPO"
      }
    },
    {
      "cell_type": "code",
      "source": [
        "#테스트 데이터 약 10개의 샘플에 대해서 실제 요약과 예측된 요약을 비교\n",
        "\n",
        "full = []\n",
        "original = []\n",
        "generated = []\n",
        "\n",
        "for i in range(0, 11):\n",
        "    full.append(seq2text(encoder_input_test[i]))\n",
        "    original.append(seq2summary(decoder_input_test[i]))\n",
        "    generated.append(decode_sequence(encoder_input_test[i].reshape(1, text_max_len)))"
      ],
      "metadata": {
        "id": "styqGAZaRU9o"
      },
      "execution_count": null,
      "outputs": []
    },
    {
      "cell_type": "code",
      "source": [
        "results = pd.DataFrame({\"full\": full, \"original\": original, \"generated\": generated})\n",
        "results"
      ],
      "metadata": {
        "colab": {
          "base_uri": "https://localhost:8080/",
          "height": 629
        },
        "id": "u11NC8vAn93T",
        "outputId": "efc4deb5-8de4-480d-8d38-f55c1b0fc52d"
      },
      "execution_count": 103,
      "outputs": [
        {
          "output_type": "execute_result",
          "data": {
            "text/plain": [
              "                                                 full  \\\n",
              "0   us president donald trump saturday explained d...   \n",
              "1   responding non bailable warrant issued maharas...   \n",
              "2   egypt education minister ordered students resp...   \n",
              "3   airbnb host united states arrested couple alle...   \n",
              "4   delhi high court directed delhi government pos...   \n",
              "5   slamming jammu kashmir cm mehbooba mufti sayin...   \n",
              "6   commenting comedy film housefull completing se...   \n",
              "7   jammu kashmir chief minister mehbooba mufti tu...   \n",
              "8   indian cricketer lokesh rahul posted picture g...   \n",
              "9   karni sena chittorgarh unit president govind s...   \n",
              "10  fifty indian stationed south sudan awarded uni...   \n",
              "\n",
              "                                             original  \\\n",
              "0   said last mountain old appearing first year pa...   \n",
              "1   said girl people holiday hotel malik good base...   \n",
              "2   said run added triple year issued law council ...   \n",
              "3   said love close litre rai added drank also civ...   \n",
              "4   said former years awards year really scheduled...   \n",
              "5   said based disappointed found state disappoint...   \n",
              "6   said kya fir reports however calling sara pull...   \n",
              "7   said based disappointed beauty corporation ind...   \n",
              "8   said members khan police largest court objecti...   \n",
              "9   said lal april saturday four minister sympathy...   \n",
              "10  said delhi gaga added action fantastic certain...   \n",
              "\n",
              "                                            generated  \n",
              "0    buttler took aims aims principal cheap rss rs...  \n",
              "1    buttler road volkswagen buttler hub dancing m...  \n",
              "2    buttler road buttler hub dancing madhuri da r...  \n",
              "3    buttler road buttler volkswagen textbook trea...  \n",
              "4    buttler road buttler took screen snacks nose ...  \n",
              "5    buttler buttler road interstellar epl bagh sm...  \n",
              "6    buttler took aims aims principal cheap rss rs...  \n",
              "7    buttler jerusalem darwin frivolous airasia si...  \n",
              "8    buttler unique buttler sapna whatsapp conside...  \n",
              "9    buttler unique buttler sapna whatsapp conside...  \n",
              "10   buttler unique buttler sapna whatsapp lays sc...  "
            ],
            "text/html": [
              "\n",
              "  <div id=\"df-ea525c40-3816-4a07-8b39-284e3d095eac\">\n",
              "    <div class=\"colab-df-container\">\n",
              "      <div>\n",
              "<style scoped>\n",
              "    .dataframe tbody tr th:only-of-type {\n",
              "        vertical-align: middle;\n",
              "    }\n",
              "\n",
              "    .dataframe tbody tr th {\n",
              "        vertical-align: top;\n",
              "    }\n",
              "\n",
              "    .dataframe thead th {\n",
              "        text-align: right;\n",
              "    }\n",
              "</style>\n",
              "<table border=\"1\" class=\"dataframe\">\n",
              "  <thead>\n",
              "    <tr style=\"text-align: right;\">\n",
              "      <th></th>\n",
              "      <th>full</th>\n",
              "      <th>original</th>\n",
              "      <th>generated</th>\n",
              "    </tr>\n",
              "  </thead>\n",
              "  <tbody>\n",
              "    <tr>\n",
              "      <th>0</th>\n",
              "      <td>us president donald trump saturday explained d...</td>\n",
              "      <td>said last mountain old appearing first year pa...</td>\n",
              "      <td>buttler took aims aims principal cheap rss rs...</td>\n",
              "    </tr>\n",
              "    <tr>\n",
              "      <th>1</th>\n",
              "      <td>responding non bailable warrant issued maharas...</td>\n",
              "      <td>said girl people holiday hotel malik good base...</td>\n",
              "      <td>buttler road volkswagen buttler hub dancing m...</td>\n",
              "    </tr>\n",
              "    <tr>\n",
              "      <th>2</th>\n",
              "      <td>egypt education minister ordered students resp...</td>\n",
              "      <td>said run added triple year issued law council ...</td>\n",
              "      <td>buttler road buttler hub dancing madhuri da r...</td>\n",
              "    </tr>\n",
              "    <tr>\n",
              "      <th>3</th>\n",
              "      <td>airbnb host united states arrested couple alle...</td>\n",
              "      <td>said love close litre rai added drank also civ...</td>\n",
              "      <td>buttler road buttler volkswagen textbook trea...</td>\n",
              "    </tr>\n",
              "    <tr>\n",
              "      <th>4</th>\n",
              "      <td>delhi high court directed delhi government pos...</td>\n",
              "      <td>said former years awards year really scheduled...</td>\n",
              "      <td>buttler road buttler took screen snacks nose ...</td>\n",
              "    </tr>\n",
              "    <tr>\n",
              "      <th>5</th>\n",
              "      <td>slamming jammu kashmir cm mehbooba mufti sayin...</td>\n",
              "      <td>said based disappointed found state disappoint...</td>\n",
              "      <td>buttler buttler road interstellar epl bagh sm...</td>\n",
              "    </tr>\n",
              "    <tr>\n",
              "      <th>6</th>\n",
              "      <td>commenting comedy film housefull completing se...</td>\n",
              "      <td>said kya fir reports however calling sara pull...</td>\n",
              "      <td>buttler took aims aims principal cheap rss rs...</td>\n",
              "    </tr>\n",
              "    <tr>\n",
              "      <th>7</th>\n",
              "      <td>jammu kashmir chief minister mehbooba mufti tu...</td>\n",
              "      <td>said based disappointed beauty corporation ind...</td>\n",
              "      <td>buttler jerusalem darwin frivolous airasia si...</td>\n",
              "    </tr>\n",
              "    <tr>\n",
              "      <th>8</th>\n",
              "      <td>indian cricketer lokesh rahul posted picture g...</td>\n",
              "      <td>said members khan police largest court objecti...</td>\n",
              "      <td>buttler unique buttler sapna whatsapp conside...</td>\n",
              "    </tr>\n",
              "    <tr>\n",
              "      <th>9</th>\n",
              "      <td>karni sena chittorgarh unit president govind s...</td>\n",
              "      <td>said lal april saturday four minister sympathy...</td>\n",
              "      <td>buttler unique buttler sapna whatsapp conside...</td>\n",
              "    </tr>\n",
              "    <tr>\n",
              "      <th>10</th>\n",
              "      <td>fifty indian stationed south sudan awarded uni...</td>\n",
              "      <td>said delhi gaga added action fantastic certain...</td>\n",
              "      <td>buttler unique buttler sapna whatsapp lays sc...</td>\n",
              "    </tr>\n",
              "  </tbody>\n",
              "</table>\n",
              "</div>\n",
              "      <button class=\"colab-df-convert\" onclick=\"convertToInteractive('df-ea525c40-3816-4a07-8b39-284e3d095eac')\"\n",
              "              title=\"Convert this dataframe to an interactive table.\"\n",
              "              style=\"display:none;\">\n",
              "        \n",
              "  <svg xmlns=\"http://www.w3.org/2000/svg\" height=\"24px\"viewBox=\"0 0 24 24\"\n",
              "       width=\"24px\">\n",
              "    <path d=\"M0 0h24v24H0V0z\" fill=\"none\"/>\n",
              "    <path d=\"M18.56 5.44l.94 2.06.94-2.06 2.06-.94-2.06-.94-.94-2.06-.94 2.06-2.06.94zm-11 1L8.5 8.5l.94-2.06 2.06-.94-2.06-.94L8.5 2.5l-.94 2.06-2.06.94zm10 10l.94 2.06.94-2.06 2.06-.94-2.06-.94-.94-2.06-.94 2.06-2.06.94z\"/><path d=\"M17.41 7.96l-1.37-1.37c-.4-.4-.92-.59-1.43-.59-.52 0-1.04.2-1.43.59L10.3 9.45l-7.72 7.72c-.78.78-.78 2.05 0 2.83L4 21.41c.39.39.9.59 1.41.59.51 0 1.02-.2 1.41-.59l7.78-7.78 2.81-2.81c.8-.78.8-2.07 0-2.86zM5.41 20L4 18.59l7.72-7.72 1.47 1.35L5.41 20z\"/>\n",
              "  </svg>\n",
              "      </button>\n",
              "      \n",
              "  <style>\n",
              "    .colab-df-container {\n",
              "      display:flex;\n",
              "      flex-wrap:wrap;\n",
              "      gap: 12px;\n",
              "    }\n",
              "\n",
              "    .colab-df-convert {\n",
              "      background-color: #E8F0FE;\n",
              "      border: none;\n",
              "      border-radius: 50%;\n",
              "      cursor: pointer;\n",
              "      display: none;\n",
              "      fill: #1967D2;\n",
              "      height: 32px;\n",
              "      padding: 0 0 0 0;\n",
              "      width: 32px;\n",
              "    }\n",
              "\n",
              "    .colab-df-convert:hover {\n",
              "      background-color: #E2EBFA;\n",
              "      box-shadow: 0px 1px 2px rgba(60, 64, 67, 0.3), 0px 1px 3px 1px rgba(60, 64, 67, 0.15);\n",
              "      fill: #174EA6;\n",
              "    }\n",
              "\n",
              "    [theme=dark] .colab-df-convert {\n",
              "      background-color: #3B4455;\n",
              "      fill: #D2E3FC;\n",
              "    }\n",
              "\n",
              "    [theme=dark] .colab-df-convert:hover {\n",
              "      background-color: #434B5C;\n",
              "      box-shadow: 0px 1px 3px 1px rgba(0, 0, 0, 0.15);\n",
              "      filter: drop-shadow(0px 1px 2px rgba(0, 0, 0, 0.3));\n",
              "      fill: #FFFFFF;\n",
              "    }\n",
              "  </style>\n",
              "\n",
              "      <script>\n",
              "        const buttonEl =\n",
              "          document.querySelector('#df-ea525c40-3816-4a07-8b39-284e3d095eac button.colab-df-convert');\n",
              "        buttonEl.style.display =\n",
              "          google.colab.kernel.accessAllowed ? 'block' : 'none';\n",
              "\n",
              "        async function convertToInteractive(key) {\n",
              "          const element = document.querySelector('#df-ea525c40-3816-4a07-8b39-284e3d095eac');\n",
              "          const dataTable =\n",
              "            await google.colab.kernel.invokeFunction('convertToInteractive',\n",
              "                                                     [key], {});\n",
              "          if (!dataTable) return;\n",
              "\n",
              "          const docLinkHtml = 'Like what you see? Visit the ' +\n",
              "            '<a target=\"_blank\" href=https://colab.research.google.com/notebooks/data_table.ipynb>data table notebook</a>'\n",
              "            + ' to learn more about interactive tables.';\n",
              "          element.innerHTML = '';\n",
              "          dataTable['output_type'] = 'display_data';\n",
              "          await google.colab.output.renderOutput(dataTable, element);\n",
              "          const docLink = document.createElement('div');\n",
              "          docLink.innerHTML = docLinkHtml;\n",
              "          element.appendChild(docLink);\n",
              "        }\n",
              "      </script>\n",
              "    </div>\n",
              "  </div>\n",
              "  "
            ]
          },
          "metadata": {},
          "execution_count": 103
        }
      ]
    },
    {
      "cell_type": "markdown",
      "source": [
        "Step5. Summa을 이용해서 추출적 요약해보기"
      ],
      "metadata": {
        "id": "zf7Tj5q-RqQj"
      }
    },
    {
      "cell_type": "code",
      "source": [
        "data = pd.read_csv('news_summary_more.csv', encoding='iso-8859-1')\n",
        "\n",
        "print('전체 샘플수 :', (len(data)))\n",
        "data.head(3) "
      ],
      "metadata": {
        "colab": {
          "base_uri": "https://localhost:8080/",
          "height": 162
        },
        "id": "4r_hu4Fesm4x",
        "outputId": "cbbafe5f-b367-4e96-f932-e6223475cf99"
      },
      "execution_count": 83,
      "outputs": [
        {
          "output_type": "stream",
          "name": "stdout",
          "text": [
            "전체 샘플수 : 98401\n"
          ]
        },
        {
          "output_type": "execute_result",
          "data": {
            "text/plain": [
              "                                           headlines  \\\n",
              "0  upGrad learner switches to career in ML & Al w...   \n",
              "1  Delhi techie wins free food from Swiggy for on...   \n",
              "2  New Zealand end Rohit Sharma-led India's 12-ma...   \n",
              "\n",
              "                                                text  \n",
              "0  Saurav Kant, an alumnus of upGrad and IIIT-B's...  \n",
              "1  Kunal Shah's credit card bill payment platform...  \n",
              "2  New Zealand defeated India by 8 wickets in the...  "
            ],
            "text/html": [
              "\n",
              "  <div id=\"df-75bf5e3d-1bb5-485a-be4d-274338c01af8\">\n",
              "    <div class=\"colab-df-container\">\n",
              "      <div>\n",
              "<style scoped>\n",
              "    .dataframe tbody tr th:only-of-type {\n",
              "        vertical-align: middle;\n",
              "    }\n",
              "\n",
              "    .dataframe tbody tr th {\n",
              "        vertical-align: top;\n",
              "    }\n",
              "\n",
              "    .dataframe thead th {\n",
              "        text-align: right;\n",
              "    }\n",
              "</style>\n",
              "<table border=\"1\" class=\"dataframe\">\n",
              "  <thead>\n",
              "    <tr style=\"text-align: right;\">\n",
              "      <th></th>\n",
              "      <th>headlines</th>\n",
              "      <th>text</th>\n",
              "    </tr>\n",
              "  </thead>\n",
              "  <tbody>\n",
              "    <tr>\n",
              "      <th>0</th>\n",
              "      <td>upGrad learner switches to career in ML &amp; Al w...</td>\n",
              "      <td>Saurav Kant, an alumnus of upGrad and IIIT-B's...</td>\n",
              "    </tr>\n",
              "    <tr>\n",
              "      <th>1</th>\n",
              "      <td>Delhi techie wins free food from Swiggy for on...</td>\n",
              "      <td>Kunal Shah's credit card bill payment platform...</td>\n",
              "    </tr>\n",
              "    <tr>\n",
              "      <th>2</th>\n",
              "      <td>New Zealand end Rohit Sharma-led India's 12-ma...</td>\n",
              "      <td>New Zealand defeated India by 8 wickets in the...</td>\n",
              "    </tr>\n",
              "  </tbody>\n",
              "</table>\n",
              "</div>\n",
              "      <button class=\"colab-df-convert\" onclick=\"convertToInteractive('df-75bf5e3d-1bb5-485a-be4d-274338c01af8')\"\n",
              "              title=\"Convert this dataframe to an interactive table.\"\n",
              "              style=\"display:none;\">\n",
              "        \n",
              "  <svg xmlns=\"http://www.w3.org/2000/svg\" height=\"24px\"viewBox=\"0 0 24 24\"\n",
              "       width=\"24px\">\n",
              "    <path d=\"M0 0h24v24H0V0z\" fill=\"none\"/>\n",
              "    <path d=\"M18.56 5.44l.94 2.06.94-2.06 2.06-.94-2.06-.94-.94-2.06-.94 2.06-2.06.94zm-11 1L8.5 8.5l.94-2.06 2.06-.94-2.06-.94L8.5 2.5l-.94 2.06-2.06.94zm10 10l.94 2.06.94-2.06 2.06-.94-2.06-.94-.94-2.06-.94 2.06-2.06.94z\"/><path d=\"M17.41 7.96l-1.37-1.37c-.4-.4-.92-.59-1.43-.59-.52 0-1.04.2-1.43.59L10.3 9.45l-7.72 7.72c-.78.78-.78 2.05 0 2.83L4 21.41c.39.39.9.59 1.41.59.51 0 1.02-.2 1.41-.59l7.78-7.78 2.81-2.81c.8-.78.8-2.07 0-2.86zM5.41 20L4 18.59l7.72-7.72 1.47 1.35L5.41 20z\"/>\n",
              "  </svg>\n",
              "      </button>\n",
              "      \n",
              "  <style>\n",
              "    .colab-df-container {\n",
              "      display:flex;\n",
              "      flex-wrap:wrap;\n",
              "      gap: 12px;\n",
              "    }\n",
              "\n",
              "    .colab-df-convert {\n",
              "      background-color: #E8F0FE;\n",
              "      border: none;\n",
              "      border-radius: 50%;\n",
              "      cursor: pointer;\n",
              "      display: none;\n",
              "      fill: #1967D2;\n",
              "      height: 32px;\n",
              "      padding: 0 0 0 0;\n",
              "      width: 32px;\n",
              "    }\n",
              "\n",
              "    .colab-df-convert:hover {\n",
              "      background-color: #E2EBFA;\n",
              "      box-shadow: 0px 1px 2px rgba(60, 64, 67, 0.3), 0px 1px 3px 1px rgba(60, 64, 67, 0.15);\n",
              "      fill: #174EA6;\n",
              "    }\n",
              "\n",
              "    [theme=dark] .colab-df-convert {\n",
              "      background-color: #3B4455;\n",
              "      fill: #D2E3FC;\n",
              "    }\n",
              "\n",
              "    [theme=dark] .colab-df-convert:hover {\n",
              "      background-color: #434B5C;\n",
              "      box-shadow: 0px 1px 3px 1px rgba(0, 0, 0, 0.15);\n",
              "      filter: drop-shadow(0px 1px 2px rgba(0, 0, 0, 0.3));\n",
              "      fill: #FFFFFF;\n",
              "    }\n",
              "  </style>\n",
              "\n",
              "      <script>\n",
              "        const buttonEl =\n",
              "          document.querySelector('#df-75bf5e3d-1bb5-485a-be4d-274338c01af8 button.colab-df-convert');\n",
              "        buttonEl.style.display =\n",
              "          google.colab.kernel.accessAllowed ? 'block' : 'none';\n",
              "\n",
              "        async function convertToInteractive(key) {\n",
              "          const element = document.querySelector('#df-75bf5e3d-1bb5-485a-be4d-274338c01af8');\n",
              "          const dataTable =\n",
              "            await google.colab.kernel.invokeFunction('convertToInteractive',\n",
              "                                                     [key], {});\n",
              "          if (!dataTable) return;\n",
              "\n",
              "          const docLinkHtml = 'Like what you see? Visit the ' +\n",
              "            '<a target=\"_blank\" href=https://colab.research.google.com/notebooks/data_table.ipynb>data table notebook</a>'\n",
              "            + ' to learn more about interactive tables.';\n",
              "          element.innerHTML = '';\n",
              "          dataTable['output_type'] = 'display_data';\n",
              "          await google.colab.output.renderOutput(dataTable, element);\n",
              "          const docLink = document.createElement('div');\n",
              "          docLink.innerHTML = docLinkHtml;\n",
              "          element.appendChild(docLink);\n",
              "        }\n",
              "      </script>\n",
              "    </div>\n",
              "  </div>\n",
              "  "
            ]
          },
          "metadata": {},
          "execution_count": 83
        }
      ]
    },
    {
      "cell_type": "code",
      "source": [
        "#summa를 이용한 추출적 요약\n",
        "data[\"summa\"] = data[\"text\"].apply(lambda x: summarizer.summarize(x, words = 20))"
      ],
      "metadata": {
        "id": "uOL7KDmho7nR"
      },
      "execution_count": 100,
      "outputs": []
    },
    {
      "cell_type": "code",
      "source": [
        "data.head(10)"
      ],
      "metadata": {
        "colab": {
          "base_uri": "https://localhost:8080/",
          "height": 581
        },
        "id": "8L7a8MKsvdhr",
        "outputId": "d9f09dcb-123f-4e10-9d00-6e93b8482ebf"
      },
      "execution_count": 101,
      "outputs": [
        {
          "output_type": "execute_result",
          "data": {
            "text/plain": [
              "                                           headlines  \\\n",
              "0  upGrad learner switches to career in ML & Al w...   \n",
              "1  Delhi techie wins free food from Swiggy for on...   \n",
              "2  New Zealand end Rohit Sharma-led India's 12-ma...   \n",
              "3  Aegon life iTerm insurance plan helps customer...   \n",
              "4  Have known Hirani for yrs, what if MeToo claim...   \n",
              "5  Rahat Fateh Ali Khan denies getting notice for...   \n",
              "6  India get all out for 92, their lowest ODI tot...   \n",
              "7  Govt directs Alok Verma to join work 1 day bef...   \n",
              "8  Called PM Modi 'sir' 10 times to satisfy his e...   \n",
              "9  Cong wins Ramgarh bypoll in Rajasthan, takes t...   \n",
              "\n",
              "                                                text  \\\n",
              "0  Saurav Kant, an alumnus of upGrad and IIIT-B's...   \n",
              "1  Kunal Shah's credit card bill payment platform...   \n",
              "2  New Zealand defeated India by 8 wickets in the...   \n",
              "3  With Aegon Life iTerm Insurance plan, customer...   \n",
              "4  Speaking about the sexual harassment allegatio...   \n",
              "5  Pakistani singer Rahat Fateh Ali Khan has deni...   \n",
              "6  India recorded their lowest ODI total in New Z...   \n",
              "7  Weeks after ex-CBI Director Alok Verma told th...   \n",
              "8  Andhra Pradesh CM N Chandrababu Naidu has said...   \n",
              "9  Congress candidate Shafia Zubair won the Ramga...   \n",
              "\n",
              "                                               summa  \n",
              "0  The program and upGrad's 360-degree career sup...  \n",
              "1  Users get one CRED coin per rupee of bill paid...  \n",
              "2  The match witnessed India getting all out for ...  \n",
              "3  Also, customers have options to insure against...  \n",
              "4  Speaking about the sexual harassment allegatio...  \n",
              "5  Pakistani singer Rahat Fateh Ali Khan has deni...  \n",
              "6  India's previous lowest ODI total in New Zeala...  \n",
              "7  Weeks after ex-CBI Director Alok Verma told th...  \n",
              "8  Andhra Pradesh CM N Chandrababu Naidu has said...  \n",
              "9  Congress candidate Shafia Zubair won the Ramga...  "
            ],
            "text/html": [
              "\n",
              "  <div id=\"df-2fc758fa-1aae-4f59-bcea-cca8bf78a060\">\n",
              "    <div class=\"colab-df-container\">\n",
              "      <div>\n",
              "<style scoped>\n",
              "    .dataframe tbody tr th:only-of-type {\n",
              "        vertical-align: middle;\n",
              "    }\n",
              "\n",
              "    .dataframe tbody tr th {\n",
              "        vertical-align: top;\n",
              "    }\n",
              "\n",
              "    .dataframe thead th {\n",
              "        text-align: right;\n",
              "    }\n",
              "</style>\n",
              "<table border=\"1\" class=\"dataframe\">\n",
              "  <thead>\n",
              "    <tr style=\"text-align: right;\">\n",
              "      <th></th>\n",
              "      <th>headlines</th>\n",
              "      <th>text</th>\n",
              "      <th>summa</th>\n",
              "    </tr>\n",
              "  </thead>\n",
              "  <tbody>\n",
              "    <tr>\n",
              "      <th>0</th>\n",
              "      <td>upGrad learner switches to career in ML &amp; Al w...</td>\n",
              "      <td>Saurav Kant, an alumnus of upGrad and IIIT-B's...</td>\n",
              "      <td>The program and upGrad's 360-degree career sup...</td>\n",
              "    </tr>\n",
              "    <tr>\n",
              "      <th>1</th>\n",
              "      <td>Delhi techie wins free food from Swiggy for on...</td>\n",
              "      <td>Kunal Shah's credit card bill payment platform...</td>\n",
              "      <td>Users get one CRED coin per rupee of bill paid...</td>\n",
              "    </tr>\n",
              "    <tr>\n",
              "      <th>2</th>\n",
              "      <td>New Zealand end Rohit Sharma-led India's 12-ma...</td>\n",
              "      <td>New Zealand defeated India by 8 wickets in the...</td>\n",
              "      <td>The match witnessed India getting all out for ...</td>\n",
              "    </tr>\n",
              "    <tr>\n",
              "      <th>3</th>\n",
              "      <td>Aegon life iTerm insurance plan helps customer...</td>\n",
              "      <td>With Aegon Life iTerm Insurance plan, customer...</td>\n",
              "      <td>Also, customers have options to insure against...</td>\n",
              "    </tr>\n",
              "    <tr>\n",
              "      <th>4</th>\n",
              "      <td>Have known Hirani for yrs, what if MeToo claim...</td>\n",
              "      <td>Speaking about the sexual harassment allegatio...</td>\n",
              "      <td>Speaking about the sexual harassment allegatio...</td>\n",
              "    </tr>\n",
              "    <tr>\n",
              "      <th>5</th>\n",
              "      <td>Rahat Fateh Ali Khan denies getting notice for...</td>\n",
              "      <td>Pakistani singer Rahat Fateh Ali Khan has deni...</td>\n",
              "      <td>Pakistani singer Rahat Fateh Ali Khan has deni...</td>\n",
              "    </tr>\n",
              "    <tr>\n",
              "      <th>6</th>\n",
              "      <td>India get all out for 92, their lowest ODI tot...</td>\n",
              "      <td>India recorded their lowest ODI total in New Z...</td>\n",
              "      <td>India's previous lowest ODI total in New Zeala...</td>\n",
              "    </tr>\n",
              "    <tr>\n",
              "      <th>7</th>\n",
              "      <td>Govt directs Alok Verma to join work 1 day bef...</td>\n",
              "      <td>Weeks after ex-CBI Director Alok Verma told th...</td>\n",
              "      <td>Weeks after ex-CBI Director Alok Verma told th...</td>\n",
              "    </tr>\n",
              "    <tr>\n",
              "      <th>8</th>\n",
              "      <td>Called PM Modi 'sir' 10 times to satisfy his e...</td>\n",
              "      <td>Andhra Pradesh CM N Chandrababu Naidu has said...</td>\n",
              "      <td>Andhra Pradesh CM N Chandrababu Naidu has said...</td>\n",
              "    </tr>\n",
              "    <tr>\n",
              "      <th>9</th>\n",
              "      <td>Cong wins Ramgarh bypoll in Rajasthan, takes t...</td>\n",
              "      <td>Congress candidate Shafia Zubair won the Ramga...</td>\n",
              "      <td>Congress candidate Shafia Zubair won the Ramga...</td>\n",
              "    </tr>\n",
              "  </tbody>\n",
              "</table>\n",
              "</div>\n",
              "      <button class=\"colab-df-convert\" onclick=\"convertToInteractive('df-2fc758fa-1aae-4f59-bcea-cca8bf78a060')\"\n",
              "              title=\"Convert this dataframe to an interactive table.\"\n",
              "              style=\"display:none;\">\n",
              "        \n",
              "  <svg xmlns=\"http://www.w3.org/2000/svg\" height=\"24px\"viewBox=\"0 0 24 24\"\n",
              "       width=\"24px\">\n",
              "    <path d=\"M0 0h24v24H0V0z\" fill=\"none\"/>\n",
              "    <path d=\"M18.56 5.44l.94 2.06.94-2.06 2.06-.94-2.06-.94-.94-2.06-.94 2.06-2.06.94zm-11 1L8.5 8.5l.94-2.06 2.06-.94-2.06-.94L8.5 2.5l-.94 2.06-2.06.94zm10 10l.94 2.06.94-2.06 2.06-.94-2.06-.94-.94-2.06-.94 2.06-2.06.94z\"/><path d=\"M17.41 7.96l-1.37-1.37c-.4-.4-.92-.59-1.43-.59-.52 0-1.04.2-1.43.59L10.3 9.45l-7.72 7.72c-.78.78-.78 2.05 0 2.83L4 21.41c.39.39.9.59 1.41.59.51 0 1.02-.2 1.41-.59l7.78-7.78 2.81-2.81c.8-.78.8-2.07 0-2.86zM5.41 20L4 18.59l7.72-7.72 1.47 1.35L5.41 20z\"/>\n",
              "  </svg>\n",
              "      </button>\n",
              "      \n",
              "  <style>\n",
              "    .colab-df-container {\n",
              "      display:flex;\n",
              "      flex-wrap:wrap;\n",
              "      gap: 12px;\n",
              "    }\n",
              "\n",
              "    .colab-df-convert {\n",
              "      background-color: #E8F0FE;\n",
              "      border: none;\n",
              "      border-radius: 50%;\n",
              "      cursor: pointer;\n",
              "      display: none;\n",
              "      fill: #1967D2;\n",
              "      height: 32px;\n",
              "      padding: 0 0 0 0;\n",
              "      width: 32px;\n",
              "    }\n",
              "\n",
              "    .colab-df-convert:hover {\n",
              "      background-color: #E2EBFA;\n",
              "      box-shadow: 0px 1px 2px rgba(60, 64, 67, 0.3), 0px 1px 3px 1px rgba(60, 64, 67, 0.15);\n",
              "      fill: #174EA6;\n",
              "    }\n",
              "\n",
              "    [theme=dark] .colab-df-convert {\n",
              "      background-color: #3B4455;\n",
              "      fill: #D2E3FC;\n",
              "    }\n",
              "\n",
              "    [theme=dark] .colab-df-convert:hover {\n",
              "      background-color: #434B5C;\n",
              "      box-shadow: 0px 1px 3px 1px rgba(0, 0, 0, 0.15);\n",
              "      filter: drop-shadow(0px 1px 2px rgba(0, 0, 0, 0.3));\n",
              "      fill: #FFFFFF;\n",
              "    }\n",
              "  </style>\n",
              "\n",
              "      <script>\n",
              "        const buttonEl =\n",
              "          document.querySelector('#df-2fc758fa-1aae-4f59-bcea-cca8bf78a060 button.colab-df-convert');\n",
              "        buttonEl.style.display =\n",
              "          google.colab.kernel.accessAllowed ? 'block' : 'none';\n",
              "\n",
              "        async function convertToInteractive(key) {\n",
              "          const element = document.querySelector('#df-2fc758fa-1aae-4f59-bcea-cca8bf78a060');\n",
              "          const dataTable =\n",
              "            await google.colab.kernel.invokeFunction('convertToInteractive',\n",
              "                                                     [key], {});\n",
              "          if (!dataTable) return;\n",
              "\n",
              "          const docLinkHtml = 'Like what you see? Visit the ' +\n",
              "            '<a target=\"_blank\" href=https://colab.research.google.com/notebooks/data_table.ipynb>data table notebook</a>'\n",
              "            + ' to learn more about interactive tables.';\n",
              "          element.innerHTML = '';\n",
              "          dataTable['output_type'] = 'display_data';\n",
              "          await google.colab.output.renderOutput(dataTable, element);\n",
              "          const docLink = document.createElement('div');\n",
              "          docLink.innerHTML = docLinkHtml;\n",
              "          element.appendChild(docLink);\n",
              "        }\n",
              "      </script>\n",
              "    </div>\n",
              "  </div>\n",
              "  "
            ]
          },
          "metadata": {},
          "execution_count": 101
        }
      ]
    }
  ]
}