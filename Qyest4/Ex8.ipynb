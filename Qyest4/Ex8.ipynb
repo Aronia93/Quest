{
  "nbformat": 4,
  "nbformat_minor": 0,
  "metadata": {
    "colab": {
      "provenance": [],
      "machine_shape": "hm",
      "gpuType": "V100",
      "authorship_tag": "ABX9TyPw2rIIToFqed7njbR67WDs",
      "include_colab_link": true
    },
    "kernelspec": {
      "name": "python3",
      "display_name": "Python 3"
    },
    "language_info": {
      "name": "python"
    },
    "gpuClass": "standard",
    "accelerator": "GPU"
  },
  "cells": [
    {
      "cell_type": "markdown",
      "metadata": {
        "id": "view-in-github",
        "colab_type": "text"
      },
      "source": [
        "<a href=\"https://colab.research.google.com/github/JihyeLimm/Quest/blob/main/Qyest4/Ex8.ipynb\" target=\"_parent\"><img src=\"https://colab.research.google.com/assets/colab-badge.svg\" alt=\"Open In Colab\"/></a>"
      ]
    },
    {
      "cell_type": "markdown",
      "source": [
        "Ex8. 네이버 영화리뷰 텍스트 감성분석하기"
      ],
      "metadata": {
        "id": "jglzWempOVVH"
      }
    },
    {
      "cell_type": "code",
      "execution_count": null,
      "metadata": {
        "colab": {
          "base_uri": "https://localhost:8080/",
          "height": 54
        },
        "id": "02HtK4g_L-kU",
        "outputId": "677c66cc-d90a-4e57-ecfa-f362c0a7c803"
      },
      "outputs": [
        {
          "output_type": "stream",
          "name": "stdout",
          "text": [
            "Mounted at /gdrive\n"
          ]
        },
        {
          "output_type": "execute_result",
          "data": {
            "text/plain": [
              "'/gdrive/MyDrive/AIFFEL/230522/Mecab-ko-for-Google-Colab'"
            ],
            "application/vnd.google.colaboratory.intrinsic+json": {
              "type": "string"
            }
          },
          "metadata": {},
          "execution_count": 1
        }
      ],
      "source": [
        "import os\n",
        "from google.colab import drive\n",
        "drive.mount('/gdrive', force_remount = True)\n",
        "os.chdir(\"/gdrive/MyDrive/AIFFEL/230522/Mecab-ko-for-Google-Colab\")\n",
        "os.getcwd()"
      ]
    },
    {
      "cell_type": "markdown",
      "source": [
        "Mecab 다운로드 및 확인\n",
        ">https://github.com/SOMJANG/Mecab-ko-for-Google-Colab"
      ],
      "metadata": {
        "id": "AkhONZLeQ4Mb"
      }
    },
    {
      "cell_type": "code",
      "source": [
        "#! git clone https://github.com/SOMJANG/Mecab-ko-for-Google-Colab.git\n",
        "!bash install_mecab-ko_on_colab_light_220429.sh"
      ],
      "metadata": {
        "id": "jn1aprcOoRuq"
      },
      "execution_count": null,
      "outputs": []
    },
    {
      "cell_type": "code",
      "source": [
        "from konlpy.tag import Mecab\n",
        "mecab = Mecab()\n",
        "text = u\"\"\"이제 구글 코랩에서 Mecab-ko라이브러리 사용이 가능합니다. 읽어주셔서 감사합니다.\"\"\"\n",
        "nouns = mecab.nouns(text)\n",
        "print(nouns)"
      ],
      "metadata": {
        "colab": {
          "base_uri": "https://localhost:8080/"
        },
        "id": "aeJ0QopPQX9z",
        "outputId": "f04a8963-6d5f-4b88-85cb-e2732b6cc225"
      },
      "execution_count": null,
      "outputs": [
        {
          "output_type": "stream",
          "name": "stdout",
          "text": [
            "['구글', '랩', '라이브러리', '사용', '가능', '감사']\n"
          ]
        }
      ]
    },
    {
      "cell_type": "code",
      "source": [
        "drive.mount('/gdrive', force_remount = True)\n",
        "os.chdir(\"/gdrive/MyDrive/AIFFEL/230522\")\n",
        "os.getcwd()"
      ],
      "metadata": {
        "colab": {
          "base_uri": "https://localhost:8080/",
          "height": 54
        },
        "id": "91V6IvWHQ0GD",
        "outputId": "629816bb-aeb8-483d-eabf-7243ea8a1069"
      },
      "execution_count": null,
      "outputs": [
        {
          "output_type": "stream",
          "name": "stdout",
          "text": [
            "Mounted at /gdrive\n"
          ]
        },
        {
          "output_type": "execute_result",
          "data": {
            "text/plain": [
              "'/gdrive/MyDrive/AIFFEL/230522'"
            ],
            "application/vnd.google.colaboratory.intrinsic+json": {
              "type": "string"
            }
          },
          "metadata": {},
          "execution_count": 4
        }
      ]
    },
    {
      "cell_type": "markdown",
      "source": [
        "라이브러리"
      ],
      "metadata": {
        "id": "nj5eVWZqRjxy"
      }
    },
    {
      "cell_type": "code",
      "source": [
        "import keras\n",
        "import tensorflow as tf\n",
        "from keras.utils import pad_sequences\n",
        "from keras.layers import Input, Embedding, GRU, Dense\n",
        "from keras.models import Model\n",
        "from tensorflow.keras.initializers import Constant\n",
        "\n",
        "import pandas as pd\n",
        "import numpy as np\n",
        "\n",
        "import gensim\n",
        "from gensim.models import KeyedVectors\n",
        "from gensim.models.keyedvectors import Word2VecKeyedVectors\n",
        "\n",
        "from collections import Counter\n",
        "\n",
        "import matplotlib.pyplot as plt\n",
        "\n",
        "#from konlpy.tag import Mecab"
      ],
      "metadata": {
        "id": "Z3Uh3GuJQ0l5"
      },
      "execution_count": null,
      "outputs": []
    },
    {
      "cell_type": "markdown",
      "source": [
        "데이터 준비 및 전처리"
      ],
      "metadata": {
        "id": "Gw5YkmFrRmEP"
      }
    },
    {
      "cell_type": "code",
      "source": [
        "#데이터 불러오기\n",
        "train_data = pd.read_table('/gdrive/MyDrive/AIFFEL/230522/data/ratings_train.txt')\n",
        "test_data = pd.read_table('/gdrive/MyDrive/AIFFEL/230522/data/ratings_test.txt')\n",
        "\n",
        "print(train_data.shape, test_data.shape, \"\\n\")\n",
        "train_data.head(3)"
      ],
      "metadata": {
        "colab": {
          "base_uri": "https://localhost:8080/",
          "height": 180
        },
        "id": "aHJixjcgQ6N3",
        "outputId": "749ecaea-3094-43e4-eef7-5542062181b5"
      },
      "execution_count": null,
      "outputs": [
        {
          "output_type": "stream",
          "name": "stdout",
          "text": [
            "(150000, 3) (50000, 3) \n",
            "\n"
          ]
        },
        {
          "output_type": "execute_result",
          "data": {
            "text/plain": [
              "         id                           document  label\n",
              "0   9976970                아 더빙.. 진짜 짜증나네요 목소리      0\n",
              "1   3819312  흠...포스터보고 초딩영화줄....오버연기조차 가볍지 않구나      1\n",
              "2  10265843                  너무재밓었다그래서보는것을추천한다      0"
            ],
            "text/html": [
              "\n",
              "  <div id=\"df-e860d14c-8946-43ed-a7db-aa68cb653756\">\n",
              "    <div class=\"colab-df-container\">\n",
              "      <div>\n",
              "<style scoped>\n",
              "    .dataframe tbody tr th:only-of-type {\n",
              "        vertical-align: middle;\n",
              "    }\n",
              "\n",
              "    .dataframe tbody tr th {\n",
              "        vertical-align: top;\n",
              "    }\n",
              "\n",
              "    .dataframe thead th {\n",
              "        text-align: right;\n",
              "    }\n",
              "</style>\n",
              "<table border=\"1\" class=\"dataframe\">\n",
              "  <thead>\n",
              "    <tr style=\"text-align: right;\">\n",
              "      <th></th>\n",
              "      <th>id</th>\n",
              "      <th>document</th>\n",
              "      <th>label</th>\n",
              "    </tr>\n",
              "  </thead>\n",
              "  <tbody>\n",
              "    <tr>\n",
              "      <th>0</th>\n",
              "      <td>9976970</td>\n",
              "      <td>아 더빙.. 진짜 짜증나네요 목소리</td>\n",
              "      <td>0</td>\n",
              "    </tr>\n",
              "    <tr>\n",
              "      <th>1</th>\n",
              "      <td>3819312</td>\n",
              "      <td>흠...포스터보고 초딩영화줄....오버연기조차 가볍지 않구나</td>\n",
              "      <td>1</td>\n",
              "    </tr>\n",
              "    <tr>\n",
              "      <th>2</th>\n",
              "      <td>10265843</td>\n",
              "      <td>너무재밓었다그래서보는것을추천한다</td>\n",
              "      <td>0</td>\n",
              "    </tr>\n",
              "  </tbody>\n",
              "</table>\n",
              "</div>\n",
              "      <button class=\"colab-df-convert\" onclick=\"convertToInteractive('df-e860d14c-8946-43ed-a7db-aa68cb653756')\"\n",
              "              title=\"Convert this dataframe to an interactive table.\"\n",
              "              style=\"display:none;\">\n",
              "        \n",
              "  <svg xmlns=\"http://www.w3.org/2000/svg\" height=\"24px\"viewBox=\"0 0 24 24\"\n",
              "       width=\"24px\">\n",
              "    <path d=\"M0 0h24v24H0V0z\" fill=\"none\"/>\n",
              "    <path d=\"M18.56 5.44l.94 2.06.94-2.06 2.06-.94-2.06-.94-.94-2.06-.94 2.06-2.06.94zm-11 1L8.5 8.5l.94-2.06 2.06-.94-2.06-.94L8.5 2.5l-.94 2.06-2.06.94zm10 10l.94 2.06.94-2.06 2.06-.94-2.06-.94-.94-2.06-.94 2.06-2.06.94z\"/><path d=\"M17.41 7.96l-1.37-1.37c-.4-.4-.92-.59-1.43-.59-.52 0-1.04.2-1.43.59L10.3 9.45l-7.72 7.72c-.78.78-.78 2.05 0 2.83L4 21.41c.39.39.9.59 1.41.59.51 0 1.02-.2 1.41-.59l7.78-7.78 2.81-2.81c.8-.78.8-2.07 0-2.86zM5.41 20L4 18.59l7.72-7.72 1.47 1.35L5.41 20z\"/>\n",
              "  </svg>\n",
              "      </button>\n",
              "      \n",
              "  <style>\n",
              "    .colab-df-container {\n",
              "      display:flex;\n",
              "      flex-wrap:wrap;\n",
              "      gap: 12px;\n",
              "    }\n",
              "\n",
              "    .colab-df-convert {\n",
              "      background-color: #E8F0FE;\n",
              "      border: none;\n",
              "      border-radius: 50%;\n",
              "      cursor: pointer;\n",
              "      display: none;\n",
              "      fill: #1967D2;\n",
              "      height: 32px;\n",
              "      padding: 0 0 0 0;\n",
              "      width: 32px;\n",
              "    }\n",
              "\n",
              "    .colab-df-convert:hover {\n",
              "      background-color: #E2EBFA;\n",
              "      box-shadow: 0px 1px 2px rgba(60, 64, 67, 0.3), 0px 1px 3px 1px rgba(60, 64, 67, 0.15);\n",
              "      fill: #174EA6;\n",
              "    }\n",
              "\n",
              "    [theme=dark] .colab-df-convert {\n",
              "      background-color: #3B4455;\n",
              "      fill: #D2E3FC;\n",
              "    }\n",
              "\n",
              "    [theme=dark] .colab-df-convert:hover {\n",
              "      background-color: #434B5C;\n",
              "      box-shadow: 0px 1px 3px 1px rgba(0, 0, 0, 0.15);\n",
              "      filter: drop-shadow(0px 1px 2px rgba(0, 0, 0, 0.3));\n",
              "      fill: #FFFFFF;\n",
              "    }\n",
              "  </style>\n",
              "\n",
              "      <script>\n",
              "        const buttonEl =\n",
              "          document.querySelector('#df-e860d14c-8946-43ed-a7db-aa68cb653756 button.colab-df-convert');\n",
              "        buttonEl.style.display =\n",
              "          google.colab.kernel.accessAllowed ? 'block' : 'none';\n",
              "\n",
              "        async function convertToInteractive(key) {\n",
              "          const element = document.querySelector('#df-e860d14c-8946-43ed-a7db-aa68cb653756');\n",
              "          const dataTable =\n",
              "            await google.colab.kernel.invokeFunction('convertToInteractive',\n",
              "                                                     [key], {});\n",
              "          if (!dataTable) return;\n",
              "\n",
              "          const docLinkHtml = 'Like what you see? Visit the ' +\n",
              "            '<a target=\"_blank\" href=https://colab.research.google.com/notebooks/data_table.ipynb>data table notebook</a>'\n",
              "            + ' to learn more about interactive tables.';\n",
              "          element.innerHTML = '';\n",
              "          dataTable['output_type'] = 'display_data';\n",
              "          await google.colab.output.renderOutput(dataTable, element);\n",
              "          const docLink = document.createElement('div');\n",
              "          docLink.innerHTML = docLinkHtml;\n",
              "          element.appendChild(docLink);\n",
              "        }\n",
              "      </script>\n",
              "    </div>\n",
              "  </div>\n",
              "  "
            ]
          },
          "metadata": {},
          "execution_count": 20
        }
      ]
    },
    {
      "cell_type": "code",
      "source": [
        "#data shuffle\n",
        "train_data = train_data.sample(frac=1)\n",
        "print(train_data.shape)\n",
        "train_data.head(3)"
      ],
      "metadata": {
        "colab": {
          "base_uri": "https://localhost:8080/",
          "height": 162
        },
        "id": "u_-NyTZUnxgl",
        "outputId": "1bafe993-aa93-4baf-914c-3949efb239ad"
      },
      "execution_count": null,
      "outputs": [
        {
          "output_type": "stream",
          "name": "stdout",
          "text": [
            "(150000, 3)\n"
          ]
        },
        {
          "output_type": "execute_result",
          "data": {
            "text/plain": [
              "             id                                          document  label\n",
              "125853  5059270                           1탄은 잼께봤는데 2탄은 왜이러니.....      0\n",
              "65118   5705888  츄레기 영화.. 이 작품은 '청계천'에서 구할 수'도' 있는 K2소총 복제품에 가깝다.      0\n",
              "96875    471551                   그나마 일본판보다 나은점은, 제니퍼 코넬리를 볼수있다는거      0"
            ],
            "text/html": [
              "\n",
              "  <div id=\"df-bcdb792d-2add-432d-b64a-58dde80e278b\">\n",
              "    <div class=\"colab-df-container\">\n",
              "      <div>\n",
              "<style scoped>\n",
              "    .dataframe tbody tr th:only-of-type {\n",
              "        vertical-align: middle;\n",
              "    }\n",
              "\n",
              "    .dataframe tbody tr th {\n",
              "        vertical-align: top;\n",
              "    }\n",
              "\n",
              "    .dataframe thead th {\n",
              "        text-align: right;\n",
              "    }\n",
              "</style>\n",
              "<table border=\"1\" class=\"dataframe\">\n",
              "  <thead>\n",
              "    <tr style=\"text-align: right;\">\n",
              "      <th></th>\n",
              "      <th>id</th>\n",
              "      <th>document</th>\n",
              "      <th>label</th>\n",
              "    </tr>\n",
              "  </thead>\n",
              "  <tbody>\n",
              "    <tr>\n",
              "      <th>125853</th>\n",
              "      <td>5059270</td>\n",
              "      <td>1탄은 잼께봤는데 2탄은 왜이러니.....</td>\n",
              "      <td>0</td>\n",
              "    </tr>\n",
              "    <tr>\n",
              "      <th>65118</th>\n",
              "      <td>5705888</td>\n",
              "      <td>츄레기 영화.. 이 작품은 '청계천'에서 구할 수'도' 있는 K2소총 복제품에 가깝다.</td>\n",
              "      <td>0</td>\n",
              "    </tr>\n",
              "    <tr>\n",
              "      <th>96875</th>\n",
              "      <td>471551</td>\n",
              "      <td>그나마 일본판보다 나은점은, 제니퍼 코넬리를 볼수있다는거</td>\n",
              "      <td>0</td>\n",
              "    </tr>\n",
              "  </tbody>\n",
              "</table>\n",
              "</div>\n",
              "      <button class=\"colab-df-convert\" onclick=\"convertToInteractive('df-bcdb792d-2add-432d-b64a-58dde80e278b')\"\n",
              "              title=\"Convert this dataframe to an interactive table.\"\n",
              "              style=\"display:none;\">\n",
              "        \n",
              "  <svg xmlns=\"http://www.w3.org/2000/svg\" height=\"24px\"viewBox=\"0 0 24 24\"\n",
              "       width=\"24px\">\n",
              "    <path d=\"M0 0h24v24H0V0z\" fill=\"none\"/>\n",
              "    <path d=\"M18.56 5.44l.94 2.06.94-2.06 2.06-.94-2.06-.94-.94-2.06-.94 2.06-2.06.94zm-11 1L8.5 8.5l.94-2.06 2.06-.94-2.06-.94L8.5 2.5l-.94 2.06-2.06.94zm10 10l.94 2.06.94-2.06 2.06-.94-2.06-.94-.94-2.06-.94 2.06-2.06.94z\"/><path d=\"M17.41 7.96l-1.37-1.37c-.4-.4-.92-.59-1.43-.59-.52 0-1.04.2-1.43.59L10.3 9.45l-7.72 7.72c-.78.78-.78 2.05 0 2.83L4 21.41c.39.39.9.59 1.41.59.51 0 1.02-.2 1.41-.59l7.78-7.78 2.81-2.81c.8-.78.8-2.07 0-2.86zM5.41 20L4 18.59l7.72-7.72 1.47 1.35L5.41 20z\"/>\n",
              "  </svg>\n",
              "      </button>\n",
              "      \n",
              "  <style>\n",
              "    .colab-df-container {\n",
              "      display:flex;\n",
              "      flex-wrap:wrap;\n",
              "      gap: 12px;\n",
              "    }\n",
              "\n",
              "    .colab-df-convert {\n",
              "      background-color: #E8F0FE;\n",
              "      border: none;\n",
              "      border-radius: 50%;\n",
              "      cursor: pointer;\n",
              "      display: none;\n",
              "      fill: #1967D2;\n",
              "      height: 32px;\n",
              "      padding: 0 0 0 0;\n",
              "      width: 32px;\n",
              "    }\n",
              "\n",
              "    .colab-df-convert:hover {\n",
              "      background-color: #E2EBFA;\n",
              "      box-shadow: 0px 1px 2px rgba(60, 64, 67, 0.3), 0px 1px 3px 1px rgba(60, 64, 67, 0.15);\n",
              "      fill: #174EA6;\n",
              "    }\n",
              "\n",
              "    [theme=dark] .colab-df-convert {\n",
              "      background-color: #3B4455;\n",
              "      fill: #D2E3FC;\n",
              "    }\n",
              "\n",
              "    [theme=dark] .colab-df-convert:hover {\n",
              "      background-color: #434B5C;\n",
              "      box-shadow: 0px 1px 3px 1px rgba(0, 0, 0, 0.15);\n",
              "      filter: drop-shadow(0px 1px 2px rgba(0, 0, 0, 0.3));\n",
              "      fill: #FFFFFF;\n",
              "    }\n",
              "  </style>\n",
              "\n",
              "      <script>\n",
              "        const buttonEl =\n",
              "          document.querySelector('#df-bcdb792d-2add-432d-b64a-58dde80e278b button.colab-df-convert');\n",
              "        buttonEl.style.display =\n",
              "          google.colab.kernel.accessAllowed ? 'block' : 'none';\n",
              "\n",
              "        async function convertToInteractive(key) {\n",
              "          const element = document.querySelector('#df-bcdb792d-2add-432d-b64a-58dde80e278b');\n",
              "          const dataTable =\n",
              "            await google.colab.kernel.invokeFunction('convertToInteractive',\n",
              "                                                     [key], {});\n",
              "          if (!dataTable) return;\n",
              "\n",
              "          const docLinkHtml = 'Like what you see? Visit the ' +\n",
              "            '<a target=\"_blank\" href=https://colab.research.google.com/notebooks/data_table.ipynb>data table notebook</a>'\n",
              "            + ' to learn more about interactive tables.';\n",
              "          element.innerHTML = '';\n",
              "          dataTable['output_type'] = 'display_data';\n",
              "          await google.colab.output.renderOutput(dataTable, element);\n",
              "          const docLink = document.createElement('div');\n",
              "          docLink.innerHTML = docLinkHtml;\n",
              "          element.appendChild(docLink);\n",
              "        }\n",
              "      </script>\n",
              "    </div>\n",
              "  </div>\n",
              "  "
            ]
          },
          "metadata": {},
          "execution_count": 21
        }
      ]
    },
    {
      "cell_type": "code",
      "source": [
        "#중복데이터 확인  -> train, test모두 document에 중복된 행 있음 \n",
        "print(\"train_data중복:\", train_data.duplicated(subset=['document']).sum())\n",
        "print(\"test_data중복:\", test_data.duplicated(subset=['document']).sum(), \"\\n\")\n",
        "\n",
        "\n",
        "#결측치 확인 -> train, test모두 document에 결측치 있음 \n",
        "print(\"Train_data info\\n\")\n",
        "train_data.info()\n",
        "print(\"\\n\")\n",
        "print(\"Test_data info\\n\")\n",
        "test_data.info()"
      ],
      "metadata": {
        "colab": {
          "base_uri": "https://localhost:8080/"
        },
        "id": "YE6w5hZNeYHB",
        "outputId": "d07b0bc6-ad63-4def-d4f1-fe15b65a102e"
      },
      "execution_count": null,
      "outputs": [
        {
          "output_type": "stream",
          "name": "stdout",
          "text": [
            "train_data중복: 3817\n",
            "test_data중복: 842 \n",
            "\n",
            "Train_data info\n",
            "\n",
            "<class 'pandas.core.frame.DataFrame'>\n",
            "Int64Index: 150000 entries, 125853 to 45040\n",
            "Data columns (total 3 columns):\n",
            " #   Column    Non-Null Count   Dtype \n",
            "---  ------    --------------   ----- \n",
            " 0   id        150000 non-null  int64 \n",
            " 1   document  149995 non-null  object\n",
            " 2   label     150000 non-null  int64 \n",
            "dtypes: int64(2), object(1)\n",
            "memory usage: 4.6+ MB\n",
            "\n",
            "\n",
            "Test_data info\n",
            "\n",
            "<class 'pandas.core.frame.DataFrame'>\n",
            "RangeIndex: 50000 entries, 0 to 49999\n",
            "Data columns (total 3 columns):\n",
            " #   Column    Non-Null Count  Dtype \n",
            "---  ------    --------------  ----- \n",
            " 0   id        50000 non-null  int64 \n",
            " 1   document  49997 non-null  object\n",
            " 2   label     50000 non-null  int64 \n",
            "dtypes: int64(2), object(1)\n",
            "memory usage: 1.1+ MB\n"
          ]
        }
      ]
    },
    {
      "cell_type": "code",
      "source": [
        "#데이터 전처리 및 word_to_index 생성\n",
        "tokenizer = Mecab()\n",
        "stopwords = ['의','가','이','은','들','는','좀','잘','걍','과','도','를','으로','자','에','와','한','하다']\n",
        "num_words = 10000\n",
        "\n",
        "def load_data(train_data, test_data, num_words = num_words):\n",
        "  #데이터 중복제거\n",
        "  train_data.drop_duplicates(subset=['document'], inplace=True)\n",
        "  test_data.drop_duplicates(subset=['document'], inplace=True)\n",
        "  \n",
        "  #NaN 결측치 제거\n",
        "  train_data = train_data.dropna(how = 'any')   \n",
        "  test_data = test_data.dropna(how = 'any') \n",
        "\n",
        "  #토큰화 및 불용어 제거\n",
        "  X_train = []\n",
        "  for sentence in train_data['document']:\n",
        "    temp_X = tokenizer.morphs(sentence)   # 한국어 토크나이저로 토큰화\n",
        "    temp_X = [word for word in temp_X if not word in stopwords]  # 불용어(Stopwords) 제거\n",
        "    X_train.append(temp_X)\n",
        "\n",
        "  X_test = []\n",
        "  for sentence in test_data['document']:\n",
        "    temp_X = tokenizer.morphs(sentence)   # 한국어 토크나이저로 토큰화\n",
        "    temp_X = [word for word in temp_X if not word in stopwords]  # 불용어(Stopwords) 제거\n",
        "    X_test.append(temp_X)\n",
        "\n",
        "  words = np.concatenate(X_train).tolist()\n",
        "  counter = Counter(words)\n",
        "  counter = counter.most_common(num_words-4)\n",
        "  vocab = ['', '', '', ''] + [key for key, _ in counter]\n",
        "  word_to_index = {word:index for index, word in enumerate(vocab)}\n",
        "\n",
        "  #사전word_to_index 구성\n",
        "  def wordlist_to_indexlist(wordlist):\n",
        "      return [word_to_index[word] if word in word_to_index else word_to_index[''] for word in wordlist]\n",
        "      \n",
        "  X_train = list(map(wordlist_to_indexlist, X_train))\n",
        "  X_test = list(map(wordlist_to_indexlist, X_test))\n",
        "      \n",
        "  return X_train, np.array(list(train_data['label'])), X_test, np.array(list(test_data['label'])), word_to_index\n",
        "\n",
        "X_train, y_train, X_test, y_test, word_to_index = load_data(train_data, test_data) \n",
        "\n",
        "print(len(X_train))  #146182\n",
        "print(len(X_test))   #49157\n",
        "\n",
        "print(X_train[0])"
      ],
      "metadata": {
        "colab": {
          "base_uri": "https://localhost:8080/"
        },
        "id": "FHAFwWHSSCFc",
        "outputId": "8189162a-acf0-4cd7-d459-ab3003d81185"
      },
      "execution_count": null,
      "outputs": [
        {
          "output_type": "stream",
          "name": "stdout",
          "text": [
            "146182\n",
            "49157\n",
            "[66, 1147, 102, 1173, 25, 23, 110, 1147, 63, 780, 112, 4, 378]\n"
          ]
        }
      ]
    },
    {
      "cell_type": "code",
      "source": [
        "#index_to_word생성\n",
        "index_to_word = {index:word for word, index in word_to_index.items()}\n",
        "\n",
        "#\"<BOS>, <PAD>, <UNK>\"는 관례적으로 딕셔너리 맨 앞에 넣어줌\n",
        "index_to_word[0]=\"<PAD>\"  # 패딩용 단어\n",
        "index_to_word[1]=\"<BOS>\"  # 문장의 시작지점\n",
        "index_to_word[2]=\"<UNK>\"  # 사전에 없는(Unknown) 단어\n",
        "\n",
        "print(len(index_to_word))\n",
        "\n",
        "#딕셔너리를 {텍스트:인덱스}구조로 변환\n",
        "word_to_index = {word:index for index, word in index_to_word.items()}\n",
        "print(word_to_index[\"<PAD>\"])"
      ],
      "metadata": {
        "id": "S0F3h-SoVdmF",
        "colab": {
          "base_uri": "https://localhost:8080/"
        },
        "outputId": "ba7a84a4-9ded-44b9-edd9-2aa9e97c14fe"
      },
      "execution_count": null,
      "outputs": [
        {
          "output_type": "stream",
          "name": "stdout",
          "text": [
            "10000\n",
            "0\n"
          ]
        }
      ]
    },
    {
      "cell_type": "code",
      "source": [
        "# 문장 1개를 활용할 딕셔너리와 함께 주면, 단어 인덱스 리스트 벡터로 변환해 주는 함수\n",
        " \n",
        "def get_encoded_sentence(sentence, word_to_index):\n",
        "    return [word_to_index['<BOS>']]+[word_to_index[word] if word in word_to_index else word_to_index['<UNK>'] for word in sentence.split()]\n",
        "    # 단, 모든 문장은 <BOS>로 시작\n",
        "\n",
        "# 여러 개의 문장 리스트를 한꺼번에 단어 인덱스 리스트 벡터로 encode해 주는 함수\n",
        "def get_encoded_sentences(sentences, word_to_index):\n",
        "    return [get_encoded_sentence(sentence, word_to_index) for sentence in sentences]\n",
        "\n",
        "# 숫자 벡터로 encode된 문장을 원래대로 decode하는 함수\n",
        "def get_decoded_sentence(encoded_sentence, index_to_word):\n",
        "    return ' '.join(index_to_word[index] if index in index_to_word else '<UNK>' for index in encoded_sentence[1:])  #[1:]를 통해 <BOS>를 제외\n",
        "\n",
        "# 여러 개의 숫자 벡터로 encode된 문장을 한꺼번에 원래대로 decode하는 함수 \n",
        "def get_decoded_sentences(encoded_sentences, index_to_word):\n",
        "    return [get_decoded_sentence(encoded_sentence, index_to_word) for encoded_sentence in encoded_sentences]"
      ],
      "metadata": {
        "id": "ouw37W6psuYr"
      },
      "execution_count": null,
      "outputs": []
    },
    {
      "cell_type": "markdown",
      "source": [
        "모델 구성을 위한 데이터 분석 및 가공"
      ],
      "metadata": {
        "id": "qGzFdPjxgd-P"
      }
    },
    {
      "cell_type": "code",
      "source": [
        "#데이터셋 내 문장 길이 분포\n",
        "total_data_text = list(X_train) + list(X_test)\n",
        "\n",
        "num_tokens = [len(tokens) for tokens in total_data_text]\n",
        "num_tokens = np.array(num_tokens)\n",
        "print('문장길이 평균 : ', np.mean(num_tokens))\n",
        "print('문장길이 최대 : ', np.max(num_tokens))\n",
        "print('문장길이 표준편차 : ', np.std(num_tokens))\n",
        "\n",
        "#text 길이 분포 -> 20이후부터 급격하게 감소, 60이후로 데이터 거의 없음 \n",
        "plt.hist([len(s) for s in total_data_text], bins=50)\n",
        "plt.show()"
      ],
      "metadata": {
        "colab": {
          "base_uri": "https://localhost:8080/",
          "height": 485
        },
        "id": "bR6nTHxatnPp",
        "outputId": "7193aea4-dc45-4565-bdc0-92c2f9c1f4cb"
      },
      "execution_count": null,
      "outputs": [
        {
          "output_type": "stream",
          "name": "stdout",
          "text": [
            "문장길이 평균 :  15.971019612059036\n",
            "문장길이 최대 :  116\n",
            "문장길이 표준편차 :  12.844062009473818\n"
          ]
        },
        {
          "output_type": "display_data",
          "data": {
            "text/plain": [
              "<Figure size 640x480 with 1 Axes>"
            ],
            "image/png": "[encoded data removed]"
          },
          "metadata": {}
        }
      ]
    },
    {
      "cell_type": "code",
      "source": [
        "\n",
        "#적절한 최대 문장 길이(maxlen) 지정: (평균 + 4*표준편차)로 가정 => 67\n",
        "max_tokens = np.mean(num_tokens) + 4*np.std(num_tokens)\n",
        "maxlen = int(max_tokens)\n",
        "print('pad_sequences maxlen : ', maxlen)   \n",
        "print(f'전체 문장의 {np.sum(num_tokens < max_tokens) / len(num_tokens)}%가 maxlen 설정값 이내에 포함됩니다. ')\n",
        "\n",
        "#패딩 추가\n",
        "x_train = tf.keras.preprocessing.sequence.pad_sequences(X_train,\n",
        "                                                        value=word_to_index[\"<PAD>\"],\n",
        "                                                        padding='pre', # 혹은 'post'\n",
        "                                                        maxlen=maxlen)\n",
        "\n",
        "x_test = tf.keras.preprocessing.sequence.pad_sequences(X_test,\n",
        "                                                       value=word_to_index[\"<PAD>\"],\n",
        "                                                       padding='pre', # 혹은 'post'\n",
        "                                                       maxlen=maxlen)\n",
        "\n",
        "print(x_train.shape)  \n",
        "print(x_test.shape)  "
      ],
      "metadata": {
        "colab": {
          "base_uri": "https://localhost:8080/"
        },
        "id": "fiJBHIkOhuxc",
        "outputId": "9faf40cb-3762-4e42-aabe-61fbafdd81ca"
      },
      "execution_count": null,
      "outputs": [
        {
          "output_type": "stream",
          "name": "stdout",
          "text": [
            "pad_sequences maxlen :  67\n",
            "전체 문장의 0.9975632106235826%가 maxlen 설정값 이내에 포함됩니다. \n",
            "(146182, 67)\n",
            "(49157, 67)\n"
          ]
        }
      ]
    },
    {
      "cell_type": "markdown",
      "source": [
        "Validation set 구성"
      ],
      "metadata": {
        "id": "-IcAOO_GgzAi"
      }
    },
    {
      "cell_type": "code",
      "source": [
        "#validation set 분리\n",
        "\n",
        "import random\n",
        "x_val = x_train[:20000]\n",
        "y_val = y_train[:20000]\n",
        "\n",
        "partial_x_train = x_train[20000:]\n",
        "partial_y_train = y_train[20000:]\n",
        "\n",
        "print(partial_x_train.shape)\n",
        "print(partial_y_train.shape)"
      ],
      "metadata": {
        "colab": {
          "base_uri": "https://localhost:8080/"
        },
        "id": "4Iaa01TPSKYu",
        "outputId": "d374bb86-493c-4ccc-b2e3-055611739de1"
      },
      "execution_count": null,
      "outputs": [
        {
          "output_type": "stream",
          "name": "stdout",
          "text": [
            "(126182, 67)\n",
            "(126182,)\n"
          ]
        }
      ]
    },
    {
      "cell_type": "markdown",
      "source": [
        "모델구성"
      ],
      "metadata": {
        "id": "oJZNKF-OaSCe"
      }
    },
    {
      "cell_type": "code",
      "source": [
        "#model 1: CNN\n",
        "\n",
        "vocab_size = 10000\n",
        "word_vector_dim = 100\n",
        "\n",
        "model1 = tf.keras.Sequential()\n",
        "model1.add(tf.keras.layers.Embedding(vocab_size, word_vector_dim, input_shape = (None, )))\n",
        "model1.add(tf.keras.layers.Conv1D(16, 7, activation = 'relu'))\n",
        "model1.add(tf.keras.layers.MaxPooling1D(5))\n",
        "model1.add(tf.keras.layers.Conv1D(16, 7, activation = 'relu'))\n",
        "model1.add(tf.keras.layers.GlobalMaxPooling1D())\n",
        "model1.add(tf.keras.layers.Dense(8, activation = 'relu'))\n",
        "model1.add(tf.keras.layers.Dense(1, activation = 'sigmoid'))\n",
        "\n",
        "model1.summary()"
      ],
      "metadata": {
        "colab": {
          "base_uri": "https://localhost:8080/"
        },
        "id": "wMHQkQPfaTvn",
        "outputId": "68b74d15-5a0d-46c2-ba03-e3f87a36e59b"
      },
      "execution_count": null,
      "outputs": [
        {
          "output_type": "stream",
          "name": "stdout",
          "text": [
            "Model: \"sequential\"\n",
            "_________________________________________________________________\n",
            " Layer (type)                Output Shape              Param #   \n",
            "=================================================================\n",
            " embedding (Embedding)       (None, None, 100)         1000000   \n",
            "                                                                 \n",
            " conv1d (Conv1D)             (None, None, 16)          11216     \n",
            "                                                                 \n",
            " max_pooling1d (MaxPooling1D  (None, None, 16)         0         \n",
            " )                                                               \n",
            "                                                                 \n",
            " conv1d_1 (Conv1D)           (None, None, 16)          1808      \n",
            "                                                                 \n",
            " global_max_pooling1d (Globa  (None, 16)               0         \n",
            " lMaxPooling1D)                                                  \n",
            "                                                                 \n",
            " dense (Dense)               (None, 8)                 136       \n",
            "                                                                 \n",
            " dense_1 (Dense)             (None, 1)                 9         \n",
            "                                                                 \n",
            "=================================================================\n",
            "Total params: 1,013,169\n",
            "Trainable params: 1,013,169\n",
            "Non-trainable params: 0\n",
            "_________________________________________________________________\n"
          ]
        }
      ]
    },
    {
      "cell_type": "code",
      "source": [
        "#model 2: LSTM\n",
        "\n",
        "vocab_size = 10000\n",
        "word_vector_dim = 100\n",
        "\n",
        "model2 = tf.keras.Sequential()\n",
        "model2.add(tf.keras.layers.Embedding(vocab_size, word_vector_dim, input_shape = (None, )))\n",
        "model2.add(tf.keras.layers.LSTM(128)) \n",
        "model2.add(tf.keras.layers.Dense(128, activation = 'relu'))\n",
        "model2.add(tf.keras.layers.Dense(64, activation = 'relu'))\n",
        "model2.add(tf.keras.layers.Dense(8, activation = 'relu'))\n",
        "model2.add(tf.keras.layers.Dense(1, activation = 'sigmoid'))\n",
        "\n",
        "model2.summary()"
      ],
      "metadata": {
        "colab": {
          "base_uri": "https://localhost:8080/"
        },
        "id": "XaY1rxFbT1g6",
        "outputId": "44555754-a8ee-4add-d242-94c75015d4eb"
      },
      "execution_count": null,
      "outputs": [
        {
          "output_type": "stream",
          "name": "stdout",
          "text": [
            "Model: \"sequential_3\"\n",
            "_________________________________________________________________\n",
            " Layer (type)                Output Shape              Param #   \n",
            "=================================================================\n",
            " embedding_3 (Embedding)     (None, None, 100)         1000000   \n",
            "                                                                 \n",
            " lstm_1 (LSTM)               (None, 128)               117248    \n",
            "                                                                 \n",
            " dense_8 (Dense)             (None, 128)               16512     \n",
            "                                                                 \n",
            " dense_9 (Dense)             (None, 64)                8256      \n",
            "                                                                 \n",
            " dense_10 (Dense)            (None, 8)                 520       \n",
            "                                                                 \n",
            " dense_11 (Dense)            (None, 1)                 9         \n",
            "                                                                 \n",
            "=================================================================\n",
            "Total params: 1,142,545\n",
            "Trainable params: 1,142,545\n",
            "Non-trainable params: 0\n",
            "_________________________________________________________________\n"
          ]
        }
      ]
    },
    {
      "cell_type": "code",
      "source": [
        "#model 3\n",
        "vocab_size = 10000\n",
        "word_vector_dim = 100\n",
        "\n",
        "model = tf.keras.Sequential()\n",
        "model.add(tf.keras.layers.Embedding(vocab_size, word_vector_dim, input_shape=(None,)))\n",
        "model.add(tf.keras.layers.GlobalMaxPooling1D())\n",
        "model.add(tf.keras.layers.Dense(8, activation='relu'))\n",
        "model.add(tf.keras.layers.Dense(1, activation='sigmoid'))  \n",
        "\n",
        "model.summary()"
      ],
      "metadata": {
        "colab": {
          "base_uri": "https://localhost:8080/"
        },
        "id": "EZPO8Ldzih7R",
        "outputId": "76004cc7-b732-4f10-8759-72d71d74bca6"
      },
      "execution_count": null,
      "outputs": [
        {
          "output_type": "stream",
          "name": "stdout",
          "text": [
            "Model: \"sequential_2\"\n",
            "_________________________________________________________________\n",
            " Layer (type)                Output Shape              Param #   \n",
            "=================================================================\n",
            " embedding_2 (Embedding)     (None, None, 100)         1000000   \n",
            "                                                                 \n",
            " global_max_pooling1d_1 (Glo  (None, 100)              0         \n",
            " balMaxPooling1D)                                                \n",
            "                                                                 \n",
            " dense_6 (Dense)             (None, 8)                 808       \n",
            "                                                                 \n",
            " dense_7 (Dense)             (None, 1)                 9         \n",
            "                                                                 \n",
            "=================================================================\n",
            "Total params: 1,000,817\n",
            "Trainable params: 1,000,817\n",
            "Non-trainable params: 0\n",
            "_________________________________________________________________\n"
          ]
        }
      ]
    },
    {
      "cell_type": "markdown",
      "source": [
        "모델학습 및 그래프 시각화"
      ],
      "metadata": {
        "id": "2Zsuh-oohCQZ"
      }
    },
    {
      "cell_type": "code",
      "source": [
        "#모델학습\n",
        "\n",
        "model = model2    #model 2: LSTM\n",
        "\n",
        "model.compile(optimizer = 'adam',\n",
        "              loss = 'binary_crossentropy',\n",
        "              metrics = ['accuracy'])\n",
        "\n",
        "epochs = 5\n",
        "\n",
        "history = model.fit(partial_x_train,\n",
        "                    partial_y_train,\n",
        "                    epochs=epochs,\n",
        "                    batch_size=512,\n",
        "                    validation_data=(x_val, y_val),\n",
        "                    verbose=1)\n",
        "\n",
        "#테스트셋으로 모델 평가\n",
        "results = model.evaluate(x_test, y_test, verbose = 2)\n",
        "print(results)\n",
        "\n",
        "\n",
        "\"\"\"\n",
        "loss를 그려 보면, 몇 epoch까지의 트레이닝이 적절한지 최적점을 추정가능\n",
        "validation loss의 그래프가 train loss와의 이격이 발생하게 되면 \n",
        "더 이상의 트레이닝은 무의미\n",
        "\"\"\"\n",
        "\n",
        "#history변수에 저장된 매 epoch rain/validation loss, accuracy 그래프 그리기\n",
        "\n",
        "history_dict = history.history\n",
        "print(history_dict.keys()) # epoch에 따른 그래프를 그려볼 수 있는 항목들\n",
        "\n",
        "\n",
        "acc = history_dict['accuracy']\n",
        "val_acc = history_dict['val_accuracy']\n",
        "loss = history_dict['loss']\n",
        "val_loss = history_dict['val_loss']\n",
        "\n",
        "epochs = range(1, len(acc) + 1)\n",
        "\n",
        "plt.figure(figsize=(12,4))\n",
        "\n",
        "#training & validation loss graph\n",
        "\n",
        "plt.subplot(1,2,1)\n",
        "plt.plot(epochs, loss, 'bo', label='Training loss') # \"bo\"는 \"파란색 점\"입니다\n",
        "plt.plot(epochs, val_loss, 'b', label='Validation loss') # b는 \"파란 실선\"입니다\n",
        "plt.title('Training and validation loss')\n",
        "plt.xlabel('Epochs')\n",
        "plt.ylabel('Loss')\n",
        "plt.legend()\n",
        "\n",
        "#training & validation Accuracy graph\n",
        "plt.subplot(1,2,2)\n",
        "plt.plot(epochs, acc, 'bo', label='Training acc')\n",
        "plt.plot(epochs, val_acc, 'b', label='Validation acc')\n",
        "plt.title('Training and validation accuracy')\n",
        "plt.xlabel('Epochs')\n",
        "plt.ylabel('Accuracy')\n",
        "plt.legend()\n",
        "\n",
        "plt.show()"
      ],
      "metadata": {
        "colab": {
          "base_uri": "https://localhost:8080/",
          "height": 568
        },
        "id": "ARIF7U9cT-T-",
        "outputId": "0d564420-8b18-424d-9494-e67a61c11e26"
      },
      "execution_count": null,
      "outputs": [
        {
          "output_type": "stream",
          "name": "stdout",
          "text": [
            "Epoch 1/5\n",
            "247/247 [==============================] - 25s 88ms/step - loss: 0.0539 - accuracy: 0.9794 - val_loss: 1.1117 - val_accuracy: 0.8370\n",
            "Epoch 2/5\n",
            "247/247 [==============================] - 9s 38ms/step - loss: 0.0480 - accuracy: 0.9818 - val_loss: 0.9908 - val_accuracy: 0.8360\n",
            "Epoch 3/5\n",
            "247/247 [==============================] - 5s 22ms/step - loss: 0.0445 - accuracy: 0.9826 - val_loss: 1.1858 - val_accuracy: 0.8384\n",
            "Epoch 4/5\n",
            "247/247 [==============================] - 5s 19ms/step - loss: 0.0431 - accuracy: 0.9832 - val_loss: 1.1386 - val_accuracy: 0.8383\n",
            "Epoch 5/5\n",
            "247/247 [==============================] - 4s 18ms/step - loss: 0.0376 - accuracy: 0.9852 - val_loss: 1.2274 - val_accuracy: 0.8378\n",
            "1537/1537 - 4s - loss: 1.2268 - accuracy: 0.8333 - 4s/epoch - 3ms/step\n",
            "[1.2268223762512207, 0.8333299160003662]\n",
            "dict_keys(['loss', 'accuracy', 'val_loss', 'val_accuracy'])\n"
          ]
        },
        {
          "output_type": "display_data",
          "data": {
            "text/plain": [
              "<Figure size 1200x400 with 2 Axes>"
            ],
            "image/png": "[encoded data removed]"
          },
          "metadata": {}
        }
      ]
    },
    {
      "cell_type": "markdown",
      "source": [
        "학습된 임베딩레이어 분석\n",
        ">gensim의 유사단어 찾기를 활용하여 자체학습한 임베딩과 사전학습 임베딩을 비교 분석\n",
        ">>결과: \"재미\"유사단어 찾기 결과 사전학습 임베딩 결과가 좀 더 설득력있음 -> 감성 분류 태스크를 잠깐 학습한 것만으로 워드 벡터가 유의미하게 학습되기는 어려움"
      ],
      "metadata": {
        "id": "YOFLMUTaVthU"
      }
    },
    {
      "cell_type": "code",
      "source": [
        "#학습한 embedding파라미터 저장\n",
        "embedding_layer = model.layers[0]\n",
        "weights = embedding_layer.get_weights()[0]\n",
        "print(weights.shape)  # shape: (vocab_size, embedding_dim)\n",
        "\n",
        "\n",
        "#지정된 디렉터리에 워드벡터 파일 저장\n",
        "word2vec_file_path = \"/gdrive/MyDrive/AIFFEL/230522/data/my_emb.txt\"\n",
        "f = open(word2vec_file_path, 'w')\n",
        "f.write('{} {}\\n'.format(vocab_size-4, word_vector_dim))\n",
        "\n",
        "#단어개수만큼의 워드벡터 파일에 기록\n",
        "vectors = model.get_weights()[0]\n",
        "for i in range(4, vocab_size):\n",
        "  f.write('{} {}\\n'.format(index_to_word[i], ' '.join(map(str, list(vectors[i, :])))))\n",
        "f.close()\n",
        "\n",
        "#gensim에서 제공하는 패키지 이용해, 위의 임베딩 파라미터 읽어서 word vector로 활용 가능\n",
        "word_vectors = Word2VecKeyedVectors.load_word2vec_format(word2vec_file_path, binary = False)\n",
        "vector = word_vectors['재미']\n",
        "len(vector)\n",
        "\n",
        "word_vectors.similar_by_word(\"재미\")  \n",
        "#감성 분류 태스크를 잠깐 학습한 것만으로 워드 벡터가 유의미하게 학습되기는 어려움"
      ],
      "metadata": {
        "colab": {
          "base_uri": "https://localhost:8080/"
        },
        "id": "yIXNh4EEVoKn",
        "outputId": "e87c888a-a214-4f34-c97b-9ee088cc4f76"
      },
      "execution_count": null,
      "outputs": [
        {
          "output_type": "stream",
          "name": "stdout",
          "text": [
            "(10000, 100)\n"
          ]
        },
        {
          "output_type": "execute_result",
          "data": {
            "text/plain": [
              "[('우정', 0.6779678463935852),\n",
              " ('매너', 0.6453362703323364),\n",
              " ('이리', 0.6433844566345215),\n",
              " ('힘', 0.6389769315719604),\n",
              " ('진보', 0.6343671083450317),\n",
              " ('잼', 0.6258286237716675),\n",
              " ('>.<', 0.6130895614624023),\n",
              " ('참여', 0.6113858222961426),\n",
              " ('아름다운', 0.6052476763725281),\n",
              " ('몰입', 0.6049667596817017)]"
            ]
          },
          "metadata": {},
          "execution_count": 55
        }
      ]
    },
    {
      "cell_type": "code",
      "source": [
        "#사전학습된 워드임베딩 모델: Word2Vec활용\n",
        "word2vec_file_path = \"/gdrive/MyDrive/AIFFEL/230522/data/word2vec_ko.model\"\n",
        "word_vectors = Word2VecKeyedVectors.load(word2vec_file_path)\n",
        "vector = word_vectors.wv[\"재미\"]\n",
        "len(vector)\n",
        "\n",
        "word_vectors.wv.similar_by_word(\"재미\")  "
      ],
      "metadata": {
        "colab": {
          "base_uri": "https://localhost:8080/"
        },
        "id": "9hF-_JC61h2y",
        "outputId": "8399f07a-c840-4a52-91ee-ff8845e26e6e"
      },
      "execution_count": null,
      "outputs": [
        {
          "output_type": "execute_result",
          "data": {
            "text/plain": [
              "[('묘미', 0.6163142919540405),\n",
              " ('취미', 0.6034970283508301),\n",
              " ('흥미', 0.5939850211143494),\n",
              " ('유머', 0.5888698101043701),\n",
              " ('보람', 0.5689517259597778),\n",
              " ('즐거움', 0.5631207823753357),\n",
              " ('개그', 0.5552946329116821),\n",
              " ('이야기', 0.5536993741989136),\n",
              " ('연애', 0.552293598651886),\n",
              " ('열의', 0.546456515789032)]"
            ]
          },
          "metadata": {},
          "execution_count": 59
        }
      ]
    },
    {
      "cell_type": "markdown",
      "source": [
        "한국어 Word2Vec 임베딩 활용하여 성능 개선"
      ],
      "metadata": {
        "id": "G3uV3rYfWSea"
      }
    },
    {
      "cell_type": "code",
      "source": [
        "#모델 임베딩 레이어를 Word2Vec으로 교체\n",
        "# embedding_matrix에 Word2Vec 워드 벡터를 단어 하나씩마다 차례차례 카피\n",
        "vocab_size = 10000    # 어휘 사전의 크기(10,000개의 단어)\n",
        "word_vector_dim = 100  # Word2Vec dimension\n",
        "embedding_matrix = np.random.rand(vocab_size, word_vector_dim)\n",
        "\n",
        "for i in range(4, vocab_size):\n",
        "  if index_to_word[i] in word2vec.wv:\n",
        "    embedding_matrix[i] = word2vec.wv[index_to_word[i]]"
      ],
      "metadata": {
        "id": "GSuXFUhfTFyH"
      },
      "execution_count": null,
      "outputs": []
    },
    {
      "cell_type": "code",
      "source": [
        "#모델 선언\n",
        "\n",
        "vocab_size = 10000\n",
        "word_vector_dim = 100\n",
        "\n",
        "model = tf.keras.Sequential()\n",
        "model.add(tf.keras.layers.Embedding(vocab_size,\n",
        "                                    word_vector_dim,\n",
        "                                    embeddings_initializer = Constant(embedding_matrix), \n",
        "                                    # 카피한 임베딩을 여기서 활용\n",
        "                                    input_length = maxlen,\n",
        "                                    trainable = True)) #trainable을 True로 주면 Fine-tuning\n",
        "model.add(tf.keras.layers.LSTM(128)) \n",
        "model.add(tf.keras.layers.Dense(128, activation = 'relu'))\n",
        "model.add(tf.keras.layers.Dense(64, activation = 'relu'))\n",
        "model.add(tf.keras.layers.Dense(8, activation = 'relu'))\n",
        "model.add(tf.keras.layers.Dense(1, activation = 'sigmoid'))\n",
        "\n",
        "model.summary()\n",
        "\n",
        "#모델 학습\n",
        "model.compile(optimizer = 'adam',\n",
        "              loss = 'binary_crossentropy',\n",
        "              metrics = ['accuracy'])\n",
        "\n",
        "epochs = 5\n",
        "history = model.fit(partial_x_train,\n",
        "                    partial_y_train,\n",
        "                    epochs=epochs,\n",
        "                    batch_size=512,\n",
        "                    validation_data=(x_val, y_val),\n",
        "                    verbose=1)\n",
        "\n",
        "\n",
        "#테스트셋 이용한 모델 평가   => 85%이상 달성\n",
        "results = model.evaluate(x_test, y_test, verbose = 2)\n",
        "print(\"\\n\\n\", results)   #epoch 5 [0.32903558015823364, 0.8616880774497986]"
      ],
      "metadata": {
        "colab": {
          "base_uri": "https://localhost:8080/"
        },
        "id": "V53NsPmtp-WF",
        "outputId": "86d80cbc-2765-4513-a6dc-db660cbec0ae"
      },
      "execution_count": null,
      "outputs": [
        {
          "output_type": "stream",
          "name": "stdout",
          "text": [
            "Model: \"sequential_11\"\n",
            "_________________________________________________________________\n",
            " Layer (type)                Output Shape              Param #   \n",
            "=================================================================\n",
            " embedding_11 (Embedding)    (None, 67, 100)           1000000   \n",
            "                                                                 \n",
            " lstm_9 (LSTM)               (None, 128)               117248    \n",
            "                                                                 \n",
            " dense_40 (Dense)            (None, 128)               16512     \n",
            "                                                                 \n",
            " dense_41 (Dense)            (None, 64)                8256      \n",
            "                                                                 \n",
            " dense_42 (Dense)            (None, 8)                 520       \n",
            "                                                                 \n",
            " dense_43 (Dense)            (None, 1)                 9         \n",
            "                                                                 \n",
            "=================================================================\n",
            "Total params: 1,142,545\n",
            "Trainable params: 1,142,545\n",
            "Non-trainable params: 0\n",
            "_________________________________________________________________\n",
            "Epoch 1/5\n",
            "247/247 [==============================] - 25s 89ms/step - loss: 0.4645 - accuracy: 0.7761 - val_loss: 0.3995 - val_accuracy: 0.8221\n",
            "Epoch 2/5\n",
            "247/247 [==============================] - 9s 38ms/step - loss: 0.3480 - accuracy: 0.8463 - val_loss: 0.3462 - val_accuracy: 0.8468\n",
            "Epoch 3/5\n",
            "247/247 [==============================] - 6s 24ms/step - loss: 0.2978 - accuracy: 0.8721 - val_loss: 0.3336 - val_accuracy: 0.8554\n",
            "Epoch 4/5\n",
            "247/247 [==============================] - 5s 20ms/step - loss: 0.2661 - accuracy: 0.8887 - val_loss: 0.3318 - val_accuracy: 0.8558\n",
            "Epoch 5/5\n",
            "247/247 [==============================] - 4s 17ms/step - loss: 0.2385 - accuracy: 0.9024 - val_loss: 0.3393 - val_accuracy: 0.8601\n",
            "1537/1537 - 4s - loss: 0.3290 - accuracy: 0.8617 - 4s/epoch - 3ms/step\n",
            "\n",
            "\n",
            " [0.32903558015823364, 0.8616880774497986]\n"
          ]
        }
      ]
    },
    {
      "cell_type": "code",
      "source": [
        "#loss, accuracy 그래프 그리기\n",
        "history_dict = history.history\n",
        "print(history_dict.keys()) # epoch에 따른 그래프를 그려볼 수 있는 항목들\n",
        "\n",
        "acc = history_dict['accuracy']\n",
        "val_acc = history_dict['val_accuracy']\n",
        "loss = history_dict['loss']\n",
        "val_loss = history_dict['val_loss']\n",
        "\n",
        "epochs = range(1, len(acc) + 1)\n",
        "\n",
        "plt.figure(figsize=(12,4))\n",
        "\n",
        "#training & validation loss graph\n",
        "\n",
        "plt.subplot(1,2,1)\n",
        "plt.plot(epochs, loss, 'bo', label='Training loss') # \"bo\"는 \"파란색 점\"입니다\n",
        "plt.plot(epochs, val_loss, 'b', label='Validation loss') # b는 \"파란 실선\"입니다\n",
        "plt.title('Training and validation loss')\n",
        "plt.xlabel('Epochs')\n",
        "plt.ylabel('Loss')\n",
        "plt.legend()\n",
        "\n",
        "#training & validation Accuracy graph\n",
        "plt.subplot(1,2,2)\n",
        "plt.plot(epochs, acc, 'bo', label='Training acc')\n",
        "plt.plot(epochs, val_acc, 'b', label='Validation acc')\n",
        "plt.title('Training and validation accuracy')\n",
        "plt.xlabel('Epochs')\n",
        "plt.ylabel('Accuracy')\n",
        "plt.legend()\n",
        "\n",
        "plt.show()"
      ],
      "metadata": {
        "colab": {
          "base_uri": "https://localhost:8080/",
          "height": 326
        },
        "id": "xLzSoTpnZCyG",
        "outputId": "0577a50d-62d8-4cba-e6af-43e6ab7fc3a0"
      },
      "execution_count": null,
      "outputs": [
        {
          "output_type": "stream",
          "name": "stdout",
          "text": [
            "dict_keys(['loss', 'accuracy', 'val_loss', 'val_accuracy'])\n"
          ]
        },
        {
          "output_type": "display_data",
          "data": {
            "text/plain": [
              "<Figure size 1200x400 with 2 Axes>"
            ],
            "image/png": "[encoded data removed]"
          },
          "metadata": {}
        }
      ]
    }
  ]
}